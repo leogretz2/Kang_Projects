{
 "cells": [
  {
   "cell_type": "markdown",
   "id": "91b4df0e",
   "metadata": {},
   "source": [
    "## Try Selenium\n",
    "Follow setup article\\\n",
    "Requires a Driver\\\n",
    "Assess if pops screen up, how it works and if it works better than bs4"
   ]
  },
  {
   "cell_type": "markdown",
   "id": "5e93b3dc",
   "metadata": {},
   "source": [
    "### Steps\n",
    "1) Open Anaconda Prompt, 'pip install selenium'; 'pip show selenium' to verify download. \\\n",
    "2) download Chrome Driver for Selenium to use: https://chromedriver.chromium.org/downloads. I wonder whether the versions will affect it. (Goes to this link eventually (1/18/24) - https://chromedriver.storage.googleapis.com/index.html?path=114.0.5735.90/)  \\\n",
    "3) chromedriver.exe may not be necessary."
   ]
  },
  {
   "cell_type": "code",
   "execution_count": 2,
   "id": "9305c01c",
   "metadata": {},
   "outputs": [
    {
     "name": "stdout",
     "output_type": "stream",
     "text": [
      "https://cessco.ca/#fl-main-content\n",
      "https://cessco.ca/\n",
      "https://cessco.ca/pressure-vessel-fabrication/\n",
      "6E5D5A78028EDF6DA390D4450AFAD16A_element_13\n",
      "PRESSURE VESSEL FABRICATION\n",
      "closing\n"
     ]
    },
    {
     "data": {
      "text/plain": [
       "'780-433-9531\\nHOME\\nFABRICATION\\nENGINEERING\\nCAPABILITIES\\nCOMPONENTS\\nCONTACT\\nFABRICATING THE LARGEST AND MOST COMPLEX PRESSURE VESSEL EQUIPMENT\\nLEARN MORE ABOUT OUR WORLD CLASS CAPABILITIES\\nWELCOME\\nEstablished in 1948, CESSCO Fabrication and Engineering Ltd. is Western Canada’s leading custom heavy fabricator, with the most complete steel fabrication and machining facility. CESSCO’s reputation for design integrity, quality workmanship and customer service is unsurpassed.\\nFrom the early days in Alberta’s oil patch, the company has grown steadily based upon service, capability and quality. Our products include pressure vessels, custom fabricated equipment and field services which include mechanical construction, in-plant maintenance and shutdowns. Our clients represent all industrial sectors; oilsands, gas processing, petrochemical, pulp and paper, power generation and mining.\\nWe welcome and appreciate your interest in our company. We hope this website will assist you to understand who we are and how we may be of service on your next project.\\nCESSCO SERVICES\\nENGINEERING\\nDetailed vessel design, in house 3d modeling, industrial drilling, boring, turning, pressing, heat treatment and full NDE\\nPLATE FORMING & ROLLING\\nCutting, beveling and plate rolling services for customers that produce tanks and smaller pressure vessels\\nPRESSURE VESSELS\\nDesign and custom fabrication of the largest and heaviest ASME Div Iand II pressure vessels\\nThrough the years, CESSCO has maintained it’s reputation for Quality, Service and Capability, while tackling the most challenging and unique jobs the industry had to offer.\\nOUR TEAM\\nGreat companies are comprised of great employees.  Our dedicated staff provided the skill, talent, enthusiasm and safe execution of work necessary to perform in building the most complex pressure vessels and components the industry has to offer. We take pride in each workers success and the career opportunities we can provide.\\nOUR TOMORROW BEGINS WITH SAFETY TODAY\\n7310-99 Street, Edmonton, AB T6E 3R8 | Phone: 780-433-9531\\nCAREERS\\nESTIMATING & SALES\\nCOMPONENT SERVICE SALES\\n© 2024 Cessco Fabrication & Engineering Ltd. All Rights Reserved.\\nIndustrial Website Design by Sumy Designs, LLC'"
      ]
     },
     "execution_count": 2,
     "metadata": {},
     "output_type": "execute_result"
    }
   ],
   "source": [
    "from selenium import webdriver\n",
    "from selenium.webdriver.common.keys import Keys\n",
    "from selenium.common.exceptions import TimeoutException\n",
    "from selenium.webdriver.common.by import By \n",
    "from selenium.webdriver.support.ui import WebDriverWait\n",
    "from selenium.webdriver.support import expected_conditions as EC\n",
    "\n",
    "# PATH = \"C:\\Program Files (x86)\\Chrome_Driver\\chromedriver.exe\"\n",
    "driver = webdriver.Chrome()\n",
    "driver.get(\"https://cessco.ca/\")\n",
    "# driver.close()\n",
    "# driver2 = webdriver.Chrome()\n",
    "# driver2.get('https://cessco.ca/pressure-vessel-fabrication/')\n",
    "# # wait = WebDriverWait(driver, timeout=10)\n",
    "# # wait.until(lambda d: )\n",
    "# driver2.close()\n",
    "\n",
    "\n",
    "# XPath - unreliable\n",
    "elems = driver.find_elements(\"xpath\", \"//a[@href]\")\n",
    "for elem in elems:\n",
    "    print(elem.get_attribute(\"href\"))\n",
    "    if (elem.get_attribute(\"href\") == 'https://cessco.ca/pressure-vessel-fabrication/'):\n",
    "#         and elem.is_displayed() and elem.is_enabled()):\n",
    "#         driver.get(elem.get_attribute(\"href\"))\n",
    "        print(elem.id)\n",
    "        inner_driver = webdriver.Chrome()\n",
    "        inner_driver.get(elem.get_attribute(\"href\"))\n",
    "        h1 = inner_driver.find_element(By.TAG_NAME,\"h1\")\n",
    "        print(h1.text)\n",
    "        inner_driver.close()\n",
    "#         driver.execute_script(\"arguments[0].click();\", elem)\n",
    "        \n",
    "#         wait = WebDriverWait(driver, 10)\n",
    "#         element = wait.until(EC.visibility_of_element_located((By.ID, elem.id)))\n",
    "#         elem.click()\n",
    "#         driver.implicitly_wait(10)\n",
    "        break\n",
    "    \n",
    "page_text = driver.find_element(\"xpath\", \"/html/body\").text\n",
    "print('closing')\n",
    "driver.close()\n",
    "page_text\n",
    "    \n",
    "# Tag name\n",
    "# elems = driver.find_elements_by_tag_name('a')\n",
    "# for elem in elems:\n",
    "#     href = elem.get_attribute('href')\n",
    "#     if href is not None:\n",
    "#         print(href)\n",
    "\n",
    "# for string in soup4.nav.children:\n",
    "# #     if (type(string) == BeautifulSoup.Tag):\n",
    "# #         print('TAG')\n",
    "#     if ('About Us' in str(string)):\n",
    "#         print('aboot')\n",
    "#         print('abooter',string.find('a')['href'])\n",
    "#         html_about = requests.get(string.find('a')['href']).text\n",
    "#         soup_about = BeautifulSoup(html_about,'html.parser')\n",
    "#         about_text = soup_about.get_text(\"|\",strip=True).split(\"|\")\n",
    "#         two_longest = sorted(about_text)[-2:]\n",
    "#         print(about_text)\n",
    "#     print(f'{i}HERE:', string)\n",
    "#     i+=1\n",
    "#     print(type(string))\n",
    "\n",
    "# driver.quit()"
   ]
  }
 ],
 "metadata": {
  "kernelspec": {
   "display_name": "Python 3",
   "language": "python",
   "name": "python3"
  },
  "language_info": {
   "codemirror_mode": {
    "name": "ipython",
    "version": 3
   },
   "file_extension": ".py",
   "mimetype": "text/x-python",
   "name": "python",
   "nbconvert_exporter": "python",
   "pygments_lexer": "ipython3",
   "version": "3.8.8"
  }
 },
 "nbformat": 4,
 "nbformat_minor": 5
}
