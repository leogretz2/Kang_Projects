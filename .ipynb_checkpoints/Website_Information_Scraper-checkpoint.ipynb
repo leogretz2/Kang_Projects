{
 "cells": [
  {
   "cell_type": "markdown",
   "id": "6bb43e43",
   "metadata": {},
   "source": [
    "### Test URLS\n",
    "https://sunstonepartners.com \\\n",
    "https://www.appliedlearning.com \\\n",
    "https://www.forsalebyowner.com login \\\n",
    "https://ecmins.com/ \\\n",
    "http://www.iconnect-corp.com \\\n",
    "https://cessco.ca/ ROBOT \\\n",
    "http://www.ticss.net \\\n",
    "https://www.tyremarket.com/Car-Tyres \\\n",
    "https://www.dentalxchange.com/ \\"
   ]
  },
  {
   "cell_type": "markdown",
   "id": "4d1ef38d",
   "metadata": {},
   "source": [
    "**ParseHub**\n",
    "- can handle Javascript, AJAX, cookies, sessions and redirects.\\\n",
    "- fails to meet the requirements for:\n",
    "Collecting data from websites that use anti-scraping technologies, such as CAPTCHA-protected websites.\n",
    "Obtaining data at a large scale.\n",
    "Bypassing geographical restrictions on content.\n",
    "- More of a scheduled running of a set scrape of a specific website.\n",
    "\n",
    "**JsonLink**\\\n",
    "(API key: pk_d22cfd76694dc6566ccbf7ed6f50cdc66215091c)\\\n",
    "30 Requests / per minute\\\n",
    "300 Requests / per hour\\\n",
    "30,000 Requests / per month\\\n",
    "\n",
    "*Incorporate rate limiting based on these rates*\n",
    "\n",
    "**Site Metadata API**\\\n",
    "Free plan:\\\n",
    "100 / month + $0.0016 each other\\\n",
    "Rate Limit\t30 requests per second\\"
   ]
  },
  {
   "cell_type": "markdown",
   "id": "1cfc60bd",
   "metadata": {},
   "source": [
    "**GPT usage** \\\n",
    "Purely token-based, scraping is a tool that GPT uses to help answer questions \\\n",
    "Using the API, price is per 1000 tokens \\\n",
    "Example: Query (100 tokens) and response (900) given by ChatGPT is around 1000 combined tokens. \\\n",
    "GPT4: I(\\\\$0.03), O(\\\\$0.06) => 0.003 + 0.054 => 0.057/url => all URLs = \\\\$14,000 \\\n",
    "GPT4-turbo: I(\\\\$0.01), O(\\\\$0.03)... \\\n",
    "ChatGPT is no additional cost to the subscription though"
   ]
  },
  {
   "cell_type": "markdown",
   "id": "ece9d5c4",
   "metadata": {},
   "source": [
    "**Ideas** \\\n",
    "Contact Us page \\\n",
    "Testimonials \\\n",
    "Products \\\n",
    "Add types to function defs"
   ]
  },
  {
   "cell_type": "markdown",
   "id": "edbaebf3",
   "metadata": {},
   "source": [
    "### Important meta tags"
   ]
  },
  {
   "cell_type": "code",
   "execution_count": 6,
   "id": "bfb13832",
   "metadata": {},
   "outputs": [],
   "source": [
    "import requests\n",
    "import pandas as pd\n",
    "import validators\n",
    "import time\n",
    "import typing\n",
    "\n",
    "def get_meta_tags(url): #: str) -> dict[str,str]:\n",
    "\n",
    "    api_key = 'pk_d22cfd76694dc6566ccbf7ed6f50cdc66215091c'    \n",
    "\n",
    "#     url = 'https://cessco.ca/'\n",
    "    # url = 'https://www.appliedlearning.com'\n",
    "\n",
    "    params = {'url': url, 'api_key': api_key}\n",
    "    \n",
    "    # Free JsonLink limit is 30 req/minute so wait 3 seconds just in case\n",
    "    time.sleep(3)\n",
    "    \n",
    "    response = requests.get('https://jsonlink.io/api/extract', params=params)\n",
    "\n",
    "    if response.status_code == 200:\n",
    "        data = response.json()\n",
    "#         print(data)\n",
    "        print('Title: ', data['title'], '\\nDescription: ', data['description'], '\\nDomain: ', data['domain'])\n",
    "        return {k: data.get(k,None) for k in ('title', 'description', 'domain')}\n",
    "    else:\n",
    "        print(f'JSONLink Error for {url}: {response.status_code} - {response.text}')\n",
    "        return {}"
   ]
  },
  {
   "cell_type": "code",
   "execution_count": 7,
   "id": "f9b4a94f",
   "metadata": {},
   "outputs": [
    {
     "name": "stdout",
     "output_type": "stream",
     "text": [
      "Title:  ECM Solutions - Personal & Business - North Carolina & South Carolina \n",
      "Description:  ECM Solutions provides personal insurance (home and auto), business insurance, employee benefits and captive insurance in North Carolina and South Carolina. \n",
      "Domain:  ecmins.com\n"
     ]
    },
    {
     "data": {
      "text/plain": [
       "{'title': 'ECM Solutions - Personal & Business - North Carolina & South Carolina',\n",
       " 'description': 'ECM Solutions provides personal insurance (home and auto), business insurance, employee benefits and captive insurance in North Carolina and South Carolina.',\n",
       " 'domain': 'ecmins.com'}"
      ]
     },
     "execution_count": 7,
     "metadata": {},
     "output_type": "execute_result"
    }
   ],
   "source": [
    "get_meta_tags('https://ecmins.com/')"
   ]
  },
  {
   "cell_type": "markdown",
   "id": "ee77dc7d",
   "metadata": {},
   "source": [
    "## Scrape Page"
   ]
  },
  {
   "cell_type": "markdown",
   "id": "11a14d9c",
   "metadata": {},
   "source": [
    "```\n",
    "for string in soup.nav.stripped_strings:\n",
    "        print(string.strip('-'))\n",
    "```\n",
    "But soup may not have nav (i.e. https://www.forsalebyowner.com)"
   ]
  },
  {
   "cell_type": "markdown",
   "id": "b3de1c54",
   "metadata": {},
   "source": [
    "#### Exploration regarding text selection from page\n",
    "\n",
    "Two longest pieces of text, or highest percentage length or something else?"
   ]
  },
  {
   "cell_type": "code",
   "execution_count": 132,
   "id": "6b04802a",
   "metadata": {},
   "outputs": [
    {
     "data": {
      "text/plain": [
       "['basdf', 'zcbccb']"
      ]
     },
     "execution_count": 132,
     "metadata": {},
     "output_type": "execute_result"
    }
   ],
   "source": [
    "a = ['basdf','sdf','zcbccb']\n",
    "sorted(a,key=len)[-2:]\n",
    "# a.sort(key=len)\n",
    "# a"
   ]
  },
  {
   "cell_type": "code",
   "execution_count": 54,
   "id": "5e03ef0c",
   "metadata": {},
   "outputs": [
    {
     "data": {
      "text/plain": [
       "'ecmins.com'"
      ]
     },
     "execution_count": 54,
     "metadata": {},
     "output_type": "execute_result"
    }
   ],
   "source": [
    "from bs4 import BeautifulSoup\n",
    "import requests\n",
    "import urllib.parse\n",
    "\n",
    "\n",
    "texter = requests.get('https://ecmins.com/').text\n",
    "souper = BeautifulSoup(texter,'html.parser')\n",
    "az = souper.find_all('a')\n",
    "hrefs = [x.attrs['href'] for x in az]\n",
    "azs = list(set([i for i in hrefs if validators.url(i)]))\n",
    "\n",
    "# parsed = urllib.parse.urlsplit(address)\n",
    "# print(\"{}?{}\".format(parsed.path.split(\"/\")[-1], parsed.query))\n",
    "urllib.parse.urlsplit(azs[0]).netloc\n",
    "# for a in az:\n",
    "#     print(a.attrs['href'])"
   ]
  },
  {
   "cell_type": "markdown",
   "id": "a3faec1b",
   "metadata": {},
   "source": [
    "### Determining Relevance of href"
   ]
  },
  {
   "cell_type": "code",
   "execution_count": 72,
   "id": "51129eec",
   "metadata": {},
   "outputs": [
    {
     "name": "stdout",
     "output_type": "stream",
     "text": [
      "ecmins.com\n"
     ]
    },
    {
     "data": {
      "text/plain": [
       "SplitResult(scheme='https', netloc='ecmins.com', path='/', query='', fragment='')"
      ]
     },
     "execution_count": 72,
     "metadata": {},
     "output_type": "execute_result"
    }
   ],
   "source": [
    "import urllib.parse as up\n",
    "\n",
    "sp = up.urlsplit('https://ecmins.com/')\n",
    "print(sp.netloc)\n",
    "sp"
   ]
  },
  {
   "cell_type": "markdown",
   "id": "ac372017",
   "metadata": {},
   "source": [
    "### Getting different pages with same driver - Selenium"
   ]
  },
  {
   "cell_type": "code",
   "execution_count": 23,
   "id": "ed130cf1",
   "metadata": {},
   "outputs": [
    {
     "name": "stdout",
     "output_type": "stream",
     "text": [
      "The dental payments platform where\n",
      "CREDENTIALCONNECT™ FOR PROVIDERS\n"
     ]
    }
   ],
   "source": [
    "driver = webdriver.Chrome()\n",
    "driver.get('https://www.dentalxchange.com/')\n",
    "page_text = driver.find_element(\"xpath\",\"/html/body\").text\n",
    "page_array = re.split(r'[\\n\\t]+',page_text)\n",
    "print(page_array[10])\n",
    "driver.get('https://www.dentalxchange.com/product/credentialconnect-for-providers')\n",
    "page_text = driver.find_element(\"xpath\",\"/html/body\").text\n",
    "page_array = re.split(r'[\\n\\t]+',page_text)\n",
    "print(page_array[10])\n",
    "driver.close()"
   ]
  },
  {
   "cell_type": "markdown",
   "id": "3e0c86bd",
   "metadata": {},
   "source": [
    "### Compare bs4.nav and selenium nav tags"
   ]
  },
  {
   "cell_type": "code",
   "execution_count": 69,
   "id": "22943e02",
   "metadata": {},
   "outputs": [
    {
     "name": "stdout",
     "output_type": "stream",
     "text": [
      "bs4 None\n",
      "<filter object at 0x000001CC58EFBD60>\n"
     ]
    }
   ],
   "source": [
    "import requests\n",
    "from bs4 import BeautifulSoup\n",
    "\n",
    "from selenium import webdriver\n",
    "from selenium.webdriver.common.keys import Keys\n",
    "from selenium.common.exceptions import TimeoutException\n",
    "from selenium.webdriver.common.by import By \n",
    "from selenium.webdriver.support.ui import WebDriverWait\n",
    "from selenium.webdriver.support import expected_conditions as EC\n",
    "\n",
    "from typing import Dict\n",
    "import re\n",
    "import urllib.parse as up\n",
    "\n",
    "url = 'https://www.appliedlearning.com'\n",
    "\n",
    "#bs4\n",
    "response = requests.get(url)\n",
    "texter = response.text\n",
    "souper = BeautifulSoup(texter, 'html.parser')\n",
    "print('bs4',souper.nav)\n",
    "\n",
    "#selenium\n",
    "driver = webdriver.Chrome()\n",
    "driver.get(url)\n",
    "navs = driver.find_elements(\"xpath\",\"//nav\")\n",
    "navs_text = list(filter(None,[re.split(r'[\\n\\t]+',nav.text) for nav in navs if nav]))\n",
    "driver.close()\n",
    "print(navs_text)"
   ]
  },
  {
   "cell_type": "markdown",
   "id": "01388dbb",
   "metadata": {},
   "source": [
    "**Report**: bs4 has .nav off of BeautifulSoup object, but is less reliable than Selenium for finding nav tags. However, manually finding nav tags with bs4 is better."
   ]
  },
  {
   "cell_type": "markdown",
   "id": "e637108c",
   "metadata": {},
   "source": [
    "### Getting different pages with same driver - Selenium"
   ]
  },
  {
   "cell_type": "code",
   "execution_count": 21,
   "id": "33acf1ad",
   "metadata": {},
   "outputs": [
    {
     "name": "stdout",
     "output_type": "stream",
     "text": [
      "Skip to content\n",
      "Skip to content\n"
     ]
    }
   ],
   "source": [
    "driver = webdriver.Chrome()\n",
    "driver.get('https://www.dentalxchange.com/')\n",
    "page_text = driver.find_element(\"xpath\",\"/html/body\").text\n",
    "page_array = re.split(r'[\\n\\t]+',page_text)\n",
    "print(page_array[0])\n",
    "driver.get('https://www.dentalxchange.com/product/credentialconnect-for-providers')\n",
    "page_text = driver.find_element(\"xpath\",\"/html/body\").text\n",
    "page_array = re.split(r'[\\n\\t]+',page_text)\n",
    "print(page_array[0])\n",
    "driver.close()"
   ]
  },
  {
   "cell_type": "markdown",
   "id": "ef4f6fbc",
   "metadata": {},
   "source": [
    "### All a tags within nav tags"
   ]
  },
  {
   "cell_type": "markdown",
   "id": "4fa4f8eb",
   "metadata": {},
   "source": [
    "#### Get all a tags.\n",
    "1. test if href valid url \\\n",
    "2. test if url + (optional /) + href valid url \\\n",
    "3. likely a bust"
   ]
  },
  {
   "cell_type": "markdown",
   "id": "602cb6bd",
   "metadata": {},
   "source": [
    "####  Selenium"
   ]
  },
  {
   "cell_type": "code",
   "execution_count": 34,
   "id": "20acd480",
   "metadata": {},
   "outputs": [
    {
     "name": "stdout",
     "output_type": "stream",
     "text": [
      "\n",
      "0347B016149A493B9B03B398C9D74967_element_23\n",
      "1\n"
     ]
    }
   ],
   "source": [
    "from selenium.webdriver.common.by import By \n",
    "\n",
    "driver = webdriver.Chrome()\n",
    "driver.get('https://www.scorpion.co/')\n",
    "anavs = driver.find_elements(\"xpath\",\"//nav//ul\")\n",
    "tag_navs = driver.find_elements(By.TAG_NAME, 'nav')\n",
    "tag_anavs = [i.find_elements(By.TAG_NAME,'a') for i in tag_navs]\n",
    "children = [(i.text+':',i.find_elements(\"xpath\",\".//*\")) for i in tag_navs]\n",
    "    # Get all the elements available with tag name 'p'\n",
    "# elements = element.find_elements(By.TAG_NAME, 'p')\n",
    "text_anavs = [i.id for i in anavs]\n",
    "# print(tag_anavs[1][0].text)\n",
    "print(children[0][1][0].text)\n",
    "driver.close()\n",
    "print(text_anavs[0])\n",
    "print(len(tag_anavs))"
   ]
  },
  {
   "cell_type": "markdown",
   "id": "ffd00960",
   "metadata": {},
   "source": [
    "#### bs4"
   ]
  },
  {
   "cell_type": "code",
   "execution_count": 125,
   "id": "e6192758",
   "metadata": {
    "scrolled": true
   },
   "outputs": [
    {
     "name": "stdout",
     "output_type": "stream",
     "text": [
      "None\n",
      "How We Help : https://www.scorpion.co/javascript:void(0);\n",
      "Get More Customers : https://www.scorpion.co/how-we-help/get-more-customers/\n",
      "Scorpion ConnectConvert visitors into customers : https://www.scorpion.co/how-we-help/scorpion-connect/\n",
      "AI ChatBetter Client Engagement : https://www.scorpion.co/how-we-help/ai-chat/\n",
      "Content MarketingAttract attention with quality content : https://www.scorpion.co/how-we-help/content-marketing/\n",
      "Digital AdvertisingGet more and better leads : https://www.scorpion.co/how-we-help/digital-advertising/\n",
      "Search Engine RankingShow up in search results : https://www.scorpion.co/how-we-help/search-engine-ranking/\n",
      "Video MarketingTell your story through video : https://www.scorpion.co/how-we-help/video-marketing/\n",
      "WebsiteConvert more of your traffic : https://www.scorpion.co/how-we-help/website/\n",
      "Fill Your Schedule : https://www.scorpion.co/how-we-help/fill-your-schedule/\n",
      "ChatChat with customers : https://www.scorpion.co/how-we-help/chat/\n",
      "CommunicationsConnect with customers instantly : https://www.scorpion.co/how-we-help/communications/\n",
      "Lead ManagementManage all leads in one place : https://www.scorpion.co/how-we-help/leads-management/\n",
      "Email MarketingBuild loyalty with email : https://www.scorpion.co/how-we-help/email-marketing/\n",
      "Online SchedulingMake online scheduling effortless : https://www.scorpion.co/how-we-help/online-scheduling/\n",
      "Social MediaEngage on social : https://www.scorpion.co/how-we-help/social-media/\n",
      "Build Your Brand : https://www.scorpion.co/how-we-help/build-your-brand/\n",
      "Brand StrategyPosition your brand to win : https://www.scorpion.co/how-we-help/brand-strategy/\n",
      "Creative StrategyBuild a library of custom creative assets : https://www.scorpion.co/how-we-help/creative-services/\n",
      "Brand ResearchUnderstand your customers : https://www.scorpion.co/how-we-help/brand-research/\n",
      "PhotographyShow clients who you are : https://www.scorpion.co/how-we-help/photography/\n",
      "Improve Your Reputation : https://www.scorpion.co/how-we-help/improve-your-reputation/\n",
      "Review MonitoringStay on top of your reputation : https://www.scorpion.co/how-we-help/review-monitoring/\n",
      "SurveysLearn with surveys : https://www.scorpion.co/how-we-help/surveys/\n",
      "Get Paid Faster : https://www.scorpion.co/how-we-help/get-paid-faster/\n",
      "PaymentsShorten your collection period : https://www.scorpion.co/how-we-help/payments/\n",
      "InvoicesFaster invoicing : https://www.scorpion.co/how-we-help/invoices/\n",
      "Track Your Results : https://www.scorpion.co/how-we-help/track-your-results/\n",
      "AI InsightsPrioritize decisions with quality data : https://www.scorpion.co/how-we-help/ai-insights/\n",
      "IntegrationsGet your tools working together : https://www.scorpion.co/how-we-help/integrations/\n",
      "Mobile AppRun your business on the go : https://www.scorpion.co/how-we-help/mobile-app/\n",
      "ReportingGet real-time insights : https://www.scorpion.co/how-we-help/reporting/\n",
      "Who We Help : https://www.scorpion.co/javascript:void(0);\n",
      "Home Services : https://www.scorpion.co/home-services/\n",
      "Electricians : https://www.scorpion.co/home-services/electricians/\n",
      "HVAC : https://www.scorpion.co/home-services/hvac/\n",
      "Roofing : https://www.scorpion.co/home-services/roofing/\n",
      "Restoration : https://www.scorpion.co/home-services/restoration/\n",
      "Plumbing : https://www.scorpion.co/home-services/plumbing/\n",
      "Pest Control : https://www.scorpion.co/home-services/pest-control/\n",
      "Healthcare : https://www.scorpion.co/healthcare/\n",
      "Chiropractic : https://www.scorpion.co/healthcare/chiropractor/\n",
      "Veterianary : https://www.scorpion.co/healthcare/veterinarian/\n",
      "Dental Service Organizations : https://www.scorpion.co/healthcare/dental-service-organization/\n",
      "Dentistry : https://www.scorpion.co/healthcare/dentists/\n",
      "Orthodontics : https://www.scorpion.co/healthcare/orthodontics/\n",
      "Pediatrics : https://www.scorpion.co/healthcare/pediatrics/\n",
      "Urgent Care : https://www.scorpion.co/healthcare/urgent-care/\n",
      "Law Firms : https://www.scorpion.co/law-firms/\n",
      "Bankruptcy : https://www.scorpion.co/law-firms/bankruptcy/\n",
      "Criminal Defense : https://www.scorpion.co/law-firms/criminal-defense/\n",
      "Employment Law : https://www.scorpion.co/law-firms/employment-law/\n",
      "Estate Planning & Probate : https://www.scorpion.co/law-firms/estate-probate/\n",
      "Family Law : https://www.scorpion.co/law-firms/family-law/\n",
      "Immigration : https://www.scorpion.co/law-firms/immigration/\n",
      "Personal Injury : https://www.scorpion.co/law-firms/personal-injury/\n",
      "Multi-Location Brands : https://www.scorpion.co/multi-location-brands/\n",
      "Health Systems : https://www.scorpion.co/multi-location-brands/health-systems/\n",
      "Dental Service Organizations : https://www.scorpion.co/multi-location-brands/dental-service-organizations/\n",
      "Multi-Location Brands : https://www.scorpion.co/multi-location-brands/brands/\n",
      "Franchise : https://www.scorpion.co/franchises/\n",
      "Why Scorpion : https://www.scorpion.co/javascript:void(0);\n",
      "Who We Are : https://www.scorpion.co/about-us/\n",
      "Scorpion Cares : https://www.scorpion.co/scorpion-cares/\n",
      "Careers : https://www.scorpion.co/careers/\n",
      "Partnerships : https://www.scorpion.co/partnerships/\n",
      "Resources : https://www.scorpion.co/javascript:void(0);\n",
      "Blog : https://www.scorpion.co/articles/\n",
      "Videos & Podcasts : https://www.scorpion.co/videos/\n",
      "Growth Studies : https://www.scorpion.co/growth-studies/\n",
      "Webinars : https://www.scorpion.co/webinars/\n",
      "Scorpion News : https://www.scorpion.co/scorpion-news/\n",
      "eBooks : https://www.scorpion.co/ebooks/\n",
      "(866) 344-8852 : Bad href\n",
      "Login : https://app.scorpion.co/\n",
      "Get Started : https://www.scorpion.co/get-started/\n"
     ]
    }
   ],
   "source": [
    "from bs4 import BeautifulSoup\n",
    "import requests\n",
    "import validators\n",
    "import urllib.parse as up\n",
    "\n",
    "url = 'https://www.scorpion.co/'\n",
    "# url = 'https://www.dentalxchange.com/'\n",
    "\n",
    "html = requests.get(url).content\n",
    "soupt = BeautifulSoup(html, 'html.parser')\n",
    "\n",
    "def url_status(base_url, href) -> bool:\n",
    "    return 'relevant' if up.urlparse(href).netloc == up.urlparse(base_url).netloc else 'irrelevant'\n",
    "\n",
    "def assess_href(base_url, href) -> str:\n",
    "    if validators.url(href):\n",
    "        return [href,url_status(base_url,href)]\n",
    "    if base_url[-1] != '/': base_url+='/'\n",
    "    if href[0] == '/': href = href[1:]\n",
    "    combined_url = base_url+href\n",
    "    if validators.url(combined_url):\n",
    "        return [combined_url,url_status(base_url, combined_url)]\n",
    "    return ['Bad href', url_status(base_url,'')]\n",
    "\n",
    "# First, find the <nav> tag, then find all <a> tags within it\n",
    "navs = soupt.find_all('nav')\n",
    "if navs:  # Check if a <nav> tag was found\n",
    "    # Find the groupings of a tags within each nav of navs\n",
    "    for nav in navs:\n",
    "#         print(nav.get_text(strip=True))\n",
    "        print(nav.id)\n",
    "        a_group = nav.find_all('a')\n",
    "#         print(a_group)\n",
    "        for a in a_group:\n",
    "            print(a.get_text(strip=True),':',assess_href(url,a.get('href'))[0])\n",
    "    \n",
    "    \n",
    "    \n",
    "#     a_groups = [nav.find_all('a') for nav in navs]\n",
    "#     for a_group in a_groups:\n",
    "#         print(a)\n",
    "#         for a in a_group:\n",
    "#             print(a.get_text(strip=True),':',a.get('href'))"
   ]
  },
  {
   "cell_type": "markdown",
   "id": "2bd836ee",
   "metadata": {},
   "source": [
    "####  Determine if url is broken/undefined (i.e. https://www.scorpion.co/javascript:void(0);) but somehow need to differentiate between these and blocked robot pages"
   ]
  },
  {
   "cell_type": "code",
   "execution_count": 123,
   "id": "ad01466a",
   "metadata": {},
   "outputs": [
    {
     "name": "stdout",
     "output_type": "stream",
     "text": [
      "complete\n"
     ]
    }
   ],
   "source": [
    "driver = webdriver.Chrome()\n",
    "driver.get('https://www.scorpion.co/javascript:void(0);')\n",
    "ready_state = driver.execute_script('return document.readyState;')\n",
    "driver.close()\n",
    "print(ready_state)"
   ]
  },
  {
   "cell_type": "code",
   "execution_count": 108,
   "id": "b40af760",
   "metadata": {},
   "outputs": [
    {
     "data": {
      "text/plain": [
       "True"
      ]
     },
     "execution_count": 108,
     "metadata": {},
     "output_type": "execute_result"
    }
   ],
   "source": [
    "assess_href('https://www.scorpion.co/','/home-services/restoration/')\n",
    "validators.url('https://www.scorpion.co/javascript:void(0);')"
   ]
  },
  {
   "cell_type": "markdown",
   "id": "751820c5",
   "metadata": {},
   "source": [
    "### Scraping Methods"
   ]
  },
  {
   "cell_type": "code",
   "execution_count": 2,
   "id": "93187013",
   "metadata": {},
   "outputs": [
    {
     "data": {
      "text/plain": [
       "[('Sign up', 'https://register.dentalxchange.com/reg/step/LoginInfoPage?1'),\n",
       " ('Log in', 'https://register.dentalxchange.com/reg/login?0'),\n",
       " ('Marketplace',\n",
       "  'https://www.dentalxchange.com/resources/solutions-marketplace/vendor-partners'),\n",
       " ('Tell Me More', 'https://www.dentalxchange.com/solutions/for-providers')]"
      ]
     },
     "execution_count": 2,
     "metadata": {},
     "output_type": "execute_result"
    }
   ],
   "source": [
    "from bs4 import BeautifulSoup\n",
    "import requests\n",
    "\n",
    "from selenium import webdriver\n",
    "from selenium.webdriver.common.keys import Keys\n",
    "from selenium.common.exceptions import TimeoutException\n",
    "from selenium.webdriver.common.by import By \n",
    "from selenium.webdriver.support.ui import WebDriverWait\n",
    "from selenium.webdriver.support import expected_conditions as EC\n",
    "\n",
    "from typing import Dict, List\n",
    "import re\n",
    "import urllib.parse as up\n",
    "\n",
    "def word_count(seg):\n",
    "    count = 0\n",
    "    for i in seg:\n",
    "        if i == ' ':\n",
    "            count += 1\n",
    "    return count+1\n",
    "\n",
    "def bs4_scrape(response_text):\n",
    "    soup = BeautifulSoup(response_text,'html.parser')\n",
    "    \n",
    "    if soup.nav:\n",
    "        # Loop through the nav and visit pages\n",
    "        for nav_child in soup4.nav.children:\n",
    "            if ('About Us' in str(nav_child)):\n",
    "                html_about = requests.get(nav_child.find('a')['href']).text\n",
    "                soup_about = BeautifulSoup(html_about,'html.parser')\n",
    "                about_text = soup_about.get_text(\"|\",strip=True).split(\"|\")\n",
    "                two_longest = sorted(about_text,key=len)[-2:]\n",
    "                print(about_text)\n",
    "            print(type(nav_child))\n",
    "    else:\n",
    "        # Visit every seemingly relevant href on the page\n",
    "        print('1')\n",
    "        \n",
    "def bs4_page_scrape(url):\n",
    "    page_text = requests.get(url).text\n",
    "    text_soup = BeautifulSoup(page_text, 'html.parser')\n",
    "    text_array = text_soup.get_text(\"|\",strip=True).split(\"|\")\n",
    "    return sorted(text_array,key=len)[-2:]\n",
    "\n",
    "def selenium_page_scrape(url):\n",
    "    driver = webdriver.Chrome()\n",
    "    driver.get(url)    \n",
    "    page_text = driver.find_element(\"xpath\",\"/html/body\").text\n",
    "    # TODO: split on any whitespace (\\n and \\t)\n",
    "    page_array = re.split(r'[\\n\\t]+',page_text)\n",
    "    # Extract the first two pieces of text with more than (7) words -> to be tested\n",
    "    first_relevant = [i for i in page_text if word_count(i) > 7][:2]\n",
    "    h1s = driver.find_elements(\"xpath\",\"//h1\")\n",
    "    h2s = driver.find_elements(\"xpath\",\"//h2\")\n",
    "    h1_texts = [h1.text for h1 in h1s if h1]\n",
    "    h2_texts = [h2.text for h2 in h2s if h2]\n",
    "    driver.close()\n",
    "    return {'first_relevant': first_relevant, 'text':sorted(page_array,key=len)[-2],'headers':list(filter(None,h1_texts+h2_texts))}\n",
    "\n",
    "def selenium_nav_scrape(url):\n",
    "    driver = webdriver.Chrome()\n",
    "    driver.get(url)\n",
    "    anavs: List[str] = driver.find_elements(\"xpath\",\"//nav//a\")\n",
    "        \n",
    "    # 1. Find the navs (List[str])\n",
    "    # 2. Clean out empties\n",
    "    # 3. Get the text and href from each anav\n",
    "    # 3. Split each one by [\\n\\t]+ then spread onto array\n",
    "    anavs_clean = [(anav.text,anav.get_attribute('href')) for anav in anavs if anav.text]\n",
    "    # Might not need to split since getting //nav//a\n",
    "#     navs_wf = [ re.split(r'[\\n\\t]+',anav[0]) for anav in anavs_clean]\n",
    "    nav_list = []\n",
    "    # For loop because can't use splat in list comprehension\n",
    "    for nav_inner in anavs_clean:\n",
    "        if type(nav_inner) == list:\n",
    "            nav_list += [*nav_inner]\n",
    "        else:\n",
    "            nav_list += [nav_inner]\n",
    "            \n",
    "    driver.close()\n",
    "    return nav_list\n",
    "    \n",
    "def selenium_scrape(url) -> Dict[str,str]:\n",
    "    url_results = {}\n",
    "    \n",
    "    # Scrape home page\n",
    "    home_page_obj = selenium_page_scrape(url)\n",
    "    url_results['home_page'] = home_page_obj\n",
    "    \n",
    "    #Scrape nav\n",
    "    nav_list = selenium_nav_scrape(url)\n",
    "    url_results['nav'] = nav_list\n",
    "    \n",
    "    if False:\n",
    "        # XPath - typically unreliable but not with relative path\n",
    "        atag_elems = driver.find_elements(\"xpath\", \"//a[@href]\")\n",
    "        for elem in atag_elems:\n",
    "            print(elem.get_attribute(\"href\"))\n",
    "            if (elem.get_attribute(\"href\") == 'https://cessco.ca/pressure-vessel-fabrication/'):\n",
    "        #         and elem.is_displayed() and elem.is_enabled()):\n",
    "                print(elem.id)\n",
    "                inner_driver = webdriver.Chrome()\n",
    "                inner_driver.get(elem.get_attribute(\"href\"))\n",
    "                h1 = inner_driver.find_element(By.TAG_NAME,\"h1\")\n",
    "                inner_driver.close()\n",
    "                break\n",
    "\n",
    "        page_text = driver.find_element(\"xpath\", \"/html/body\").text\n",
    "        print('closing')\n",
    "        driver.close()\n",
    "        page_text\n",
    "    \n",
    "    return url_results\n",
    "\n",
    "# https://www.appliedlearning.com\n",
    "# https://sunstonepartners.com\n",
    "# https://ecmins.com\n",
    "# https://www.dentalxchange.com/\n",
    "selenium_nav_scrape('https://www.dentalxchange.com/')"
   ]
  },
  {
   "cell_type": "markdown",
   "id": "889ace46",
   "metadata": {},
   "source": [
    "### Loop through excel"
   ]
  },
  {
   "cell_type": "code",
   "execution_count": 22,
   "id": "974dfc6b",
   "metadata": {},
   "outputs": [
    {
     "name": "stdout",
     "output_type": "stream",
     "text": [
      "Title:  Home - Sunstone Partners \n",
      "Description:  A partner for growth LEARN MORE Who We Are We are a leading growth oriented private equity firm that makes majority and minority investments in technology-enabled services and software businesses. We seek to partner with exceptional entrepreneurs, often as their first institutional capital partner, to help accelerate organic growth and fund acquisitions. We have over […] \n",
      "Domain:  sunstonepartners.com\n",
      "Title:  Applied Learning creates powerful learning experiences to help you drive business performance. \n",
      "Description:  Applied Learning enables authentic employee engagement and better strategy execution. Our approach produces fresh solutions tailored to each client’s goals. \n",
      "Domain:  www.appliedlearning.com\n",
      "Title:  FSBO Real Estate Listings: Buy or Sell a House | ForSaleByOwner \n",
      "Description:  Browse exclusive homes for sale by owner or sell your home FSBO.  ForSaleByOwner.com helps you sell your home fast and save money. See why so many are selling FSBO! \n",
      "Domain:  www.forsalebyowner.com\n",
      "Title:  Not found. \n",
      "Description:  \n",
      "                    Whatever you were looking for doesn't currently exist at this address. Unless you were looking for this error page, in which case: Congrats! You totally found it.\n",
      "                 \n",
      "Domain:  comsatmedia-en.tumblr.com\n",
      "Title:  Kdan Mobile | The Best Creative & Productivity Apps & Services \n",
      "Description:  Kdan Mobile provides mobile solutions including e-signature services, document and content creation apps that empower your creativity and productivity. \n",
      "Domain:  www.kdanmobile.com\n",
      "Title:  Buy Chlorella Online | Sun Chlorella USA \n",
      "Description:  Sun Chlorella provides the most digestible chlorella in the world using our proprietary process. Shop for & buy chlorella online in a variety of forms today! \n",
      "Domain:  www.sunchlorellausa.com\n",
      "Title:  Papé Material Handling | Hyster & Yale Dealer \n",
      "Description:  Papé Material Handling offers superior products and customer service at every one of our locations throughout the West.  \n",
      "Domain:  www.papemh.com\n",
      "Title:  Wacker Brewing Company, brewed in Lancaster PA | \n",
      "Description:   \n",
      "Domain:  wackerbrewing.com\n",
      "Title:  Local SEO Web Design Company Denver | 21stsoft.com \n",
      "Description:  21st maximizes your online presence with local SEO marketing. Founded in Denver, Colorado 1993 with an A+ BBB rating we elevate sales and lead generation. \n",
      "Domain:  21stsoft.com\n",
      "Title:  Orthodontic & Dental Marketing - Marketing by SOS \n",
      "Description:  Orthodontic & Pediatric Dental marketing: referrals, branding, websites, social media, tshirts & more! In a nutshell: we make great practices even better. \n",
      "Domain:  marketingbysos.com\n",
      "Title:  WITTMANN Group – US | WITTMANN Group \n",
      "Description:  Follow Us \n",
      "Domain:  www.wittmann-group.com\n",
      "Title:  Xela Pack | Environmentally Conscious Sample Packaging \n",
      "Description:  Xela Pack Inc. specializes in producing environmentally conscious sample and trial packaging. Our main goal is to provide product companies with an attractive, affordable and functional sample package while paying utmost respect to the earth. \n",
      "Domain:  www.xelapack.com\n",
      "Title:  Home - EPIC iO \n",
      "Description:  Unlock AIoT & wireless connectivity with EPIC iO and generate predictions to inform action, saving time & money! Discover the possibilities now. \n",
      "Domain:  epicio.com\n",
      "Title:  Buy Organic Chia Seeds, Products & More | Mamma Chia Online Store \n",
      "Description:  Buy Mamma Chia products online! Shop our online store to find chia seeds, snacks & more! \n",
      "Domain:  mammachia.com\n",
      "Title:  Fabricant de camions blindés Amérique du Nord – Cambli \n",
      "Description:  Canada, États-Unis, Europe. Groupe Cambli est le plus important concepteur et fabricant de camions blindés en Amérique du Nord. \n",
      "Domain:  cambli.com\n",
      "Title:  River Run | Milwaukee IT Firm & Managed IT Service Provider \n",
      "Description:  River Run is a full-service IT firm in the Greater Milwaukee Area. We partner with small to medium sized businesses on a full-suite of managed network services and IT support. \n",
      "Domain:  www.river-run.com\n",
      "Title:  Workspace Optimization | Desk Booking | ReSoft International LLC \n",
      "Description:  ReSoft International's focus is on employee self-service workplace management technology. We add highly scalable meeting room, team space and flexible workplace signage/management to your existing email technology investment. \n",
      "Domain:  www.re-soft.com\n",
      "Title:  {{title}} \n",
      "Description:  {{description}} \n",
      "Domain:  www.pavestone.com\n"
     ]
    },
    {
     "ename": "KeyboardInterrupt",
     "evalue": "",
     "output_type": "error",
     "traceback": [
      "\u001b[1;31m---------------------------------------------------------------------------\u001b[0m",
      "\u001b[1;31mKeyboardInterrupt\u001b[0m                         Traceback (most recent call last)",
      "\u001b[1;32m<ipython-input-22-13544ac1e4a7>\u001b[0m in \u001b[0;36m<module>\u001b[1;34m\u001b[0m\n\u001b[0;32m     29\u001b[0m \u001b[1;33m\u001b[0m\u001b[0m\n\u001b[0;32m     30\u001b[0m         \u001b[1;31m# minimum layer is JsonLink\u001b[0m\u001b[1;33m\u001b[0m\u001b[1;33m\u001b[0m\u001b[1;33m\u001b[0m\u001b[0m\n\u001b[1;32m---> 31\u001b[1;33m         \u001b[0mget_meta_tags\u001b[0m\u001b[1;33m(\u001b[0m\u001b[0mcurrent_url\u001b[0m\u001b[1;33m)\u001b[0m\u001b[1;33m\u001b[0m\u001b[1;33m\u001b[0m\u001b[0m\n\u001b[0m\u001b[0;32m     32\u001b[0m         \u001b[1;31m# try requests, if receive not 200 status, use selenium\u001b[0m\u001b[1;33m\u001b[0m\u001b[1;33m\u001b[0m\u001b[1;33m\u001b[0m\u001b[0m\n\u001b[0;32m     33\u001b[0m \u001b[1;33m\u001b[0m\u001b[0m\n",
      "\u001b[1;32m<ipython-input-19-68417d8a0f6c>\u001b[0m in \u001b[0;36mget_meta_tags\u001b[1;34m(url)\u001b[0m\n\u001b[0;32m     11\u001b[0m \u001b[1;33m\u001b[0m\u001b[0m\n\u001b[0;32m     12\u001b[0m     \u001b[0mparams\u001b[0m \u001b[1;33m=\u001b[0m \u001b[1;33m{\u001b[0m\u001b[1;34m'url'\u001b[0m\u001b[1;33m:\u001b[0m \u001b[0murl\u001b[0m\u001b[1;33m,\u001b[0m \u001b[1;34m'api_key'\u001b[0m\u001b[1;33m:\u001b[0m \u001b[0mapi_key\u001b[0m\u001b[1;33m}\u001b[0m\u001b[1;33m\u001b[0m\u001b[1;33m\u001b[0m\u001b[0m\n\u001b[1;32m---> 13\u001b[1;33m     \u001b[0mresponse\u001b[0m \u001b[1;33m=\u001b[0m \u001b[0mrequests\u001b[0m\u001b[1;33m.\u001b[0m\u001b[0mget\u001b[0m\u001b[1;33m(\u001b[0m\u001b[1;34m'https://jsonlink.io/api/extract'\u001b[0m\u001b[1;33m,\u001b[0m \u001b[0mparams\u001b[0m\u001b[1;33m=\u001b[0m\u001b[0mparams\u001b[0m\u001b[1;33m)\u001b[0m\u001b[1;33m\u001b[0m\u001b[1;33m\u001b[0m\u001b[0m\n\u001b[0m\u001b[0;32m     14\u001b[0m \u001b[1;33m\u001b[0m\u001b[0m\n\u001b[0;32m     15\u001b[0m     \u001b[1;32mif\u001b[0m \u001b[0mresponse\u001b[0m\u001b[1;33m.\u001b[0m\u001b[0mstatus_code\u001b[0m \u001b[1;33m==\u001b[0m \u001b[1;36m200\u001b[0m\u001b[1;33m:\u001b[0m\u001b[1;33m\u001b[0m\u001b[1;33m\u001b[0m\u001b[0m\n",
      "\u001b[1;32m~\\anaconda3\\lib\\site-packages\\requests\\api.py\u001b[0m in \u001b[0;36mget\u001b[1;34m(url, params, **kwargs)\u001b[0m\n\u001b[0;32m     74\u001b[0m \u001b[1;33m\u001b[0m\u001b[0m\n\u001b[0;32m     75\u001b[0m     \u001b[0mkwargs\u001b[0m\u001b[1;33m.\u001b[0m\u001b[0msetdefault\u001b[0m\u001b[1;33m(\u001b[0m\u001b[1;34m'allow_redirects'\u001b[0m\u001b[1;33m,\u001b[0m \u001b[1;32mTrue\u001b[0m\u001b[1;33m)\u001b[0m\u001b[1;33m\u001b[0m\u001b[1;33m\u001b[0m\u001b[0m\n\u001b[1;32m---> 76\u001b[1;33m     \u001b[1;32mreturn\u001b[0m \u001b[0mrequest\u001b[0m\u001b[1;33m(\u001b[0m\u001b[1;34m'get'\u001b[0m\u001b[1;33m,\u001b[0m \u001b[0murl\u001b[0m\u001b[1;33m,\u001b[0m \u001b[0mparams\u001b[0m\u001b[1;33m=\u001b[0m\u001b[0mparams\u001b[0m\u001b[1;33m,\u001b[0m \u001b[1;33m**\u001b[0m\u001b[0mkwargs\u001b[0m\u001b[1;33m)\u001b[0m\u001b[1;33m\u001b[0m\u001b[1;33m\u001b[0m\u001b[0m\n\u001b[0m\u001b[0;32m     77\u001b[0m \u001b[1;33m\u001b[0m\u001b[0m\n\u001b[0;32m     78\u001b[0m \u001b[1;33m\u001b[0m\u001b[0m\n",
      "\u001b[1;32m~\\anaconda3\\lib\\site-packages\\requests\\api.py\u001b[0m in \u001b[0;36mrequest\u001b[1;34m(method, url, **kwargs)\u001b[0m\n\u001b[0;32m     59\u001b[0m     \u001b[1;31m# cases, and look like a memory leak in others.\u001b[0m\u001b[1;33m\u001b[0m\u001b[1;33m\u001b[0m\u001b[1;33m\u001b[0m\u001b[0m\n\u001b[0;32m     60\u001b[0m     \u001b[1;32mwith\u001b[0m \u001b[0msessions\u001b[0m\u001b[1;33m.\u001b[0m\u001b[0mSession\u001b[0m\u001b[1;33m(\u001b[0m\u001b[1;33m)\u001b[0m \u001b[1;32mas\u001b[0m \u001b[0msession\u001b[0m\u001b[1;33m:\u001b[0m\u001b[1;33m\u001b[0m\u001b[1;33m\u001b[0m\u001b[0m\n\u001b[1;32m---> 61\u001b[1;33m         \u001b[1;32mreturn\u001b[0m \u001b[0msession\u001b[0m\u001b[1;33m.\u001b[0m\u001b[0mrequest\u001b[0m\u001b[1;33m(\u001b[0m\u001b[0mmethod\u001b[0m\u001b[1;33m=\u001b[0m\u001b[0mmethod\u001b[0m\u001b[1;33m,\u001b[0m \u001b[0murl\u001b[0m\u001b[1;33m=\u001b[0m\u001b[0murl\u001b[0m\u001b[1;33m,\u001b[0m \u001b[1;33m**\u001b[0m\u001b[0mkwargs\u001b[0m\u001b[1;33m)\u001b[0m\u001b[1;33m\u001b[0m\u001b[1;33m\u001b[0m\u001b[0m\n\u001b[0m\u001b[0;32m     62\u001b[0m \u001b[1;33m\u001b[0m\u001b[0m\n\u001b[0;32m     63\u001b[0m \u001b[1;33m\u001b[0m\u001b[0m\n",
      "\u001b[1;32m~\\anaconda3\\lib\\site-packages\\requests\\sessions.py\u001b[0m in \u001b[0;36mrequest\u001b[1;34m(self, method, url, params, data, headers, cookies, files, auth, timeout, allow_redirects, proxies, hooks, stream, verify, cert, json)\u001b[0m\n\u001b[0;32m    540\u001b[0m         }\n\u001b[0;32m    541\u001b[0m         \u001b[0msend_kwargs\u001b[0m\u001b[1;33m.\u001b[0m\u001b[0mupdate\u001b[0m\u001b[1;33m(\u001b[0m\u001b[0msettings\u001b[0m\u001b[1;33m)\u001b[0m\u001b[1;33m\u001b[0m\u001b[1;33m\u001b[0m\u001b[0m\n\u001b[1;32m--> 542\u001b[1;33m         \u001b[0mresp\u001b[0m \u001b[1;33m=\u001b[0m \u001b[0mself\u001b[0m\u001b[1;33m.\u001b[0m\u001b[0msend\u001b[0m\u001b[1;33m(\u001b[0m\u001b[0mprep\u001b[0m\u001b[1;33m,\u001b[0m \u001b[1;33m**\u001b[0m\u001b[0msend_kwargs\u001b[0m\u001b[1;33m)\u001b[0m\u001b[1;33m\u001b[0m\u001b[1;33m\u001b[0m\u001b[0m\n\u001b[0m\u001b[0;32m    543\u001b[0m \u001b[1;33m\u001b[0m\u001b[0m\n\u001b[0;32m    544\u001b[0m         \u001b[1;32mreturn\u001b[0m \u001b[0mresp\u001b[0m\u001b[1;33m\u001b[0m\u001b[1;33m\u001b[0m\u001b[0m\n",
      "\u001b[1;32m~\\anaconda3\\lib\\site-packages\\requests\\sessions.py\u001b[0m in \u001b[0;36msend\u001b[1;34m(self, request, **kwargs)\u001b[0m\n\u001b[0;32m    653\u001b[0m \u001b[1;33m\u001b[0m\u001b[0m\n\u001b[0;32m    654\u001b[0m         \u001b[1;31m# Send the request\u001b[0m\u001b[1;33m\u001b[0m\u001b[1;33m\u001b[0m\u001b[1;33m\u001b[0m\u001b[0m\n\u001b[1;32m--> 655\u001b[1;33m         \u001b[0mr\u001b[0m \u001b[1;33m=\u001b[0m \u001b[0madapter\u001b[0m\u001b[1;33m.\u001b[0m\u001b[0msend\u001b[0m\u001b[1;33m(\u001b[0m\u001b[0mrequest\u001b[0m\u001b[1;33m,\u001b[0m \u001b[1;33m**\u001b[0m\u001b[0mkwargs\u001b[0m\u001b[1;33m)\u001b[0m\u001b[1;33m\u001b[0m\u001b[1;33m\u001b[0m\u001b[0m\n\u001b[0m\u001b[0;32m    656\u001b[0m \u001b[1;33m\u001b[0m\u001b[0m\n\u001b[0;32m    657\u001b[0m         \u001b[1;31m# Total elapsed time of the request (approximately)\u001b[0m\u001b[1;33m\u001b[0m\u001b[1;33m\u001b[0m\u001b[1;33m\u001b[0m\u001b[0m\n",
      "\u001b[1;32m~\\anaconda3\\lib\\site-packages\\requests\\adapters.py\u001b[0m in \u001b[0;36msend\u001b[1;34m(self, request, stream, timeout, verify, cert, proxies)\u001b[0m\n\u001b[0;32m    437\u001b[0m         \u001b[1;32mtry\u001b[0m\u001b[1;33m:\u001b[0m\u001b[1;33m\u001b[0m\u001b[1;33m\u001b[0m\u001b[0m\n\u001b[0;32m    438\u001b[0m             \u001b[1;32mif\u001b[0m \u001b[1;32mnot\u001b[0m \u001b[0mchunked\u001b[0m\u001b[1;33m:\u001b[0m\u001b[1;33m\u001b[0m\u001b[1;33m\u001b[0m\u001b[0m\n\u001b[1;32m--> 439\u001b[1;33m                 resp = conn.urlopen(\n\u001b[0m\u001b[0;32m    440\u001b[0m                     \u001b[0mmethod\u001b[0m\u001b[1;33m=\u001b[0m\u001b[0mrequest\u001b[0m\u001b[1;33m.\u001b[0m\u001b[0mmethod\u001b[0m\u001b[1;33m,\u001b[0m\u001b[1;33m\u001b[0m\u001b[1;33m\u001b[0m\u001b[0m\n\u001b[0;32m    441\u001b[0m                     \u001b[0murl\u001b[0m\u001b[1;33m=\u001b[0m\u001b[0murl\u001b[0m\u001b[1;33m,\u001b[0m\u001b[1;33m\u001b[0m\u001b[1;33m\u001b[0m\u001b[0m\n",
      "\u001b[1;32m~\\anaconda3\\lib\\site-packages\\urllib3\\connectionpool.py\u001b[0m in \u001b[0;36murlopen\u001b[1;34m(self, method, url, body, headers, retries, redirect, assert_same_host, timeout, pool_timeout, release_conn, chunked, body_pos, **response_kw)\u001b[0m\n\u001b[0;32m    697\u001b[0m \u001b[1;33m\u001b[0m\u001b[0m\n\u001b[0;32m    698\u001b[0m             \u001b[1;31m# Make the request on the httplib connection object.\u001b[0m\u001b[1;33m\u001b[0m\u001b[1;33m\u001b[0m\u001b[1;33m\u001b[0m\u001b[0m\n\u001b[1;32m--> 699\u001b[1;33m             httplib_response = self._make_request(\n\u001b[0m\u001b[0;32m    700\u001b[0m                 \u001b[0mconn\u001b[0m\u001b[1;33m,\u001b[0m\u001b[1;33m\u001b[0m\u001b[1;33m\u001b[0m\u001b[0m\n\u001b[0;32m    701\u001b[0m                 \u001b[0mmethod\u001b[0m\u001b[1;33m,\u001b[0m\u001b[1;33m\u001b[0m\u001b[1;33m\u001b[0m\u001b[0m\n",
      "\u001b[1;32m~\\anaconda3\\lib\\site-packages\\urllib3\\connectionpool.py\u001b[0m in \u001b[0;36m_make_request\u001b[1;34m(self, conn, method, url, timeout, chunked, **httplib_request_kw)\u001b[0m\n\u001b[0;32m    443\u001b[0m                     \u001b[1;31m# Python 3 (including for exceptions like SystemExit).\u001b[0m\u001b[1;33m\u001b[0m\u001b[1;33m\u001b[0m\u001b[1;33m\u001b[0m\u001b[0m\n\u001b[0;32m    444\u001b[0m                     \u001b[1;31m# Otherwise it looks like a bug in the code.\u001b[0m\u001b[1;33m\u001b[0m\u001b[1;33m\u001b[0m\u001b[1;33m\u001b[0m\u001b[0m\n\u001b[1;32m--> 445\u001b[1;33m                     \u001b[0msix\u001b[0m\u001b[1;33m.\u001b[0m\u001b[0mraise_from\u001b[0m\u001b[1;33m(\u001b[0m\u001b[0me\u001b[0m\u001b[1;33m,\u001b[0m \u001b[1;32mNone\u001b[0m\u001b[1;33m)\u001b[0m\u001b[1;33m\u001b[0m\u001b[1;33m\u001b[0m\u001b[0m\n\u001b[0m\u001b[0;32m    446\u001b[0m         \u001b[1;32mexcept\u001b[0m \u001b[1;33m(\u001b[0m\u001b[0mSocketTimeout\u001b[0m\u001b[1;33m,\u001b[0m \u001b[0mBaseSSLError\u001b[0m\u001b[1;33m,\u001b[0m \u001b[0mSocketError\u001b[0m\u001b[1;33m)\u001b[0m \u001b[1;32mas\u001b[0m \u001b[0me\u001b[0m\u001b[1;33m:\u001b[0m\u001b[1;33m\u001b[0m\u001b[1;33m\u001b[0m\u001b[0m\n\u001b[0;32m    447\u001b[0m             \u001b[0mself\u001b[0m\u001b[1;33m.\u001b[0m\u001b[0m_raise_timeout\u001b[0m\u001b[1;33m(\u001b[0m\u001b[0merr\u001b[0m\u001b[1;33m=\u001b[0m\u001b[0me\u001b[0m\u001b[1;33m,\u001b[0m \u001b[0murl\u001b[0m\u001b[1;33m=\u001b[0m\u001b[0murl\u001b[0m\u001b[1;33m,\u001b[0m \u001b[0mtimeout_value\u001b[0m\u001b[1;33m=\u001b[0m\u001b[0mread_timeout\u001b[0m\u001b[1;33m)\u001b[0m\u001b[1;33m\u001b[0m\u001b[1;33m\u001b[0m\u001b[0m\n",
      "\u001b[1;32m~\\anaconda3\\lib\\site-packages\\urllib3\\packages\\six.py\u001b[0m in \u001b[0;36mraise_from\u001b[1;34m(value, from_value)\u001b[0m\n",
      "\u001b[1;32m~\\anaconda3\\lib\\site-packages\\urllib3\\connectionpool.py\u001b[0m in \u001b[0;36m_make_request\u001b[1;34m(self, conn, method, url, timeout, chunked, **httplib_request_kw)\u001b[0m\n\u001b[0;32m    438\u001b[0m                 \u001b[1;31m# Python 3\u001b[0m\u001b[1;33m\u001b[0m\u001b[1;33m\u001b[0m\u001b[1;33m\u001b[0m\u001b[0m\n\u001b[0;32m    439\u001b[0m                 \u001b[1;32mtry\u001b[0m\u001b[1;33m:\u001b[0m\u001b[1;33m\u001b[0m\u001b[1;33m\u001b[0m\u001b[0m\n\u001b[1;32m--> 440\u001b[1;33m                     \u001b[0mhttplib_response\u001b[0m \u001b[1;33m=\u001b[0m \u001b[0mconn\u001b[0m\u001b[1;33m.\u001b[0m\u001b[0mgetresponse\u001b[0m\u001b[1;33m(\u001b[0m\u001b[1;33m)\u001b[0m\u001b[1;33m\u001b[0m\u001b[1;33m\u001b[0m\u001b[0m\n\u001b[0m\u001b[0;32m    441\u001b[0m                 \u001b[1;32mexcept\u001b[0m \u001b[0mBaseException\u001b[0m \u001b[1;32mas\u001b[0m \u001b[0me\u001b[0m\u001b[1;33m:\u001b[0m\u001b[1;33m\u001b[0m\u001b[1;33m\u001b[0m\u001b[0m\n\u001b[0;32m    442\u001b[0m                     \u001b[1;31m# Remove the TypeError from the exception chain in\u001b[0m\u001b[1;33m\u001b[0m\u001b[1;33m\u001b[0m\u001b[1;33m\u001b[0m\u001b[0m\n",
      "\u001b[1;32m~\\anaconda3\\lib\\http\\client.py\u001b[0m in \u001b[0;36mgetresponse\u001b[1;34m(self)\u001b[0m\n\u001b[0;32m   1345\u001b[0m         \u001b[1;32mtry\u001b[0m\u001b[1;33m:\u001b[0m\u001b[1;33m\u001b[0m\u001b[1;33m\u001b[0m\u001b[0m\n\u001b[0;32m   1346\u001b[0m             \u001b[1;32mtry\u001b[0m\u001b[1;33m:\u001b[0m\u001b[1;33m\u001b[0m\u001b[1;33m\u001b[0m\u001b[0m\n\u001b[1;32m-> 1347\u001b[1;33m                 \u001b[0mresponse\u001b[0m\u001b[1;33m.\u001b[0m\u001b[0mbegin\u001b[0m\u001b[1;33m(\u001b[0m\u001b[1;33m)\u001b[0m\u001b[1;33m\u001b[0m\u001b[1;33m\u001b[0m\u001b[0m\n\u001b[0m\u001b[0;32m   1348\u001b[0m             \u001b[1;32mexcept\u001b[0m \u001b[0mConnectionError\u001b[0m\u001b[1;33m:\u001b[0m\u001b[1;33m\u001b[0m\u001b[1;33m\u001b[0m\u001b[0m\n\u001b[0;32m   1349\u001b[0m                 \u001b[0mself\u001b[0m\u001b[1;33m.\u001b[0m\u001b[0mclose\u001b[0m\u001b[1;33m(\u001b[0m\u001b[1;33m)\u001b[0m\u001b[1;33m\u001b[0m\u001b[1;33m\u001b[0m\u001b[0m\n",
      "\u001b[1;32m~\\anaconda3\\lib\\http\\client.py\u001b[0m in \u001b[0;36mbegin\u001b[1;34m(self)\u001b[0m\n\u001b[0;32m    305\u001b[0m         \u001b[1;31m# read until we get a non-100 response\u001b[0m\u001b[1;33m\u001b[0m\u001b[1;33m\u001b[0m\u001b[1;33m\u001b[0m\u001b[0m\n\u001b[0;32m    306\u001b[0m         \u001b[1;32mwhile\u001b[0m \u001b[1;32mTrue\u001b[0m\u001b[1;33m:\u001b[0m\u001b[1;33m\u001b[0m\u001b[1;33m\u001b[0m\u001b[0m\n\u001b[1;32m--> 307\u001b[1;33m             \u001b[0mversion\u001b[0m\u001b[1;33m,\u001b[0m \u001b[0mstatus\u001b[0m\u001b[1;33m,\u001b[0m \u001b[0mreason\u001b[0m \u001b[1;33m=\u001b[0m \u001b[0mself\u001b[0m\u001b[1;33m.\u001b[0m\u001b[0m_read_status\u001b[0m\u001b[1;33m(\u001b[0m\u001b[1;33m)\u001b[0m\u001b[1;33m\u001b[0m\u001b[1;33m\u001b[0m\u001b[0m\n\u001b[0m\u001b[0;32m    308\u001b[0m             \u001b[1;32mif\u001b[0m \u001b[0mstatus\u001b[0m \u001b[1;33m!=\u001b[0m \u001b[0mCONTINUE\u001b[0m\u001b[1;33m:\u001b[0m\u001b[1;33m\u001b[0m\u001b[1;33m\u001b[0m\u001b[0m\n\u001b[0;32m    309\u001b[0m                 \u001b[1;32mbreak\u001b[0m\u001b[1;33m\u001b[0m\u001b[1;33m\u001b[0m\u001b[0m\n",
      "\u001b[1;32m~\\anaconda3\\lib\\http\\client.py\u001b[0m in \u001b[0;36m_read_status\u001b[1;34m(self)\u001b[0m\n\u001b[0;32m    266\u001b[0m \u001b[1;33m\u001b[0m\u001b[0m\n\u001b[0;32m    267\u001b[0m     \u001b[1;32mdef\u001b[0m \u001b[0m_read_status\u001b[0m\u001b[1;33m(\u001b[0m\u001b[0mself\u001b[0m\u001b[1;33m)\u001b[0m\u001b[1;33m:\u001b[0m\u001b[1;33m\u001b[0m\u001b[1;33m\u001b[0m\u001b[0m\n\u001b[1;32m--> 268\u001b[1;33m         \u001b[0mline\u001b[0m \u001b[1;33m=\u001b[0m \u001b[0mstr\u001b[0m\u001b[1;33m(\u001b[0m\u001b[0mself\u001b[0m\u001b[1;33m.\u001b[0m\u001b[0mfp\u001b[0m\u001b[1;33m.\u001b[0m\u001b[0mreadline\u001b[0m\u001b[1;33m(\u001b[0m\u001b[0m_MAXLINE\u001b[0m \u001b[1;33m+\u001b[0m \u001b[1;36m1\u001b[0m\u001b[1;33m)\u001b[0m\u001b[1;33m,\u001b[0m \u001b[1;34m\"iso-8859-1\"\u001b[0m\u001b[1;33m)\u001b[0m\u001b[1;33m\u001b[0m\u001b[1;33m\u001b[0m\u001b[0m\n\u001b[0m\u001b[0;32m    269\u001b[0m         \u001b[1;32mif\u001b[0m \u001b[0mlen\u001b[0m\u001b[1;33m(\u001b[0m\u001b[0mline\u001b[0m\u001b[1;33m)\u001b[0m \u001b[1;33m>\u001b[0m \u001b[0m_MAXLINE\u001b[0m\u001b[1;33m:\u001b[0m\u001b[1;33m\u001b[0m\u001b[1;33m\u001b[0m\u001b[0m\n\u001b[0;32m    270\u001b[0m             \u001b[1;32mraise\u001b[0m \u001b[0mLineTooLong\u001b[0m\u001b[1;33m(\u001b[0m\u001b[1;34m\"status line\"\u001b[0m\u001b[1;33m)\u001b[0m\u001b[1;33m\u001b[0m\u001b[1;33m\u001b[0m\u001b[0m\n",
      "\u001b[1;32m~\\anaconda3\\lib\\socket.py\u001b[0m in \u001b[0;36mreadinto\u001b[1;34m(self, b)\u001b[0m\n\u001b[0;32m    667\u001b[0m         \u001b[1;32mwhile\u001b[0m \u001b[1;32mTrue\u001b[0m\u001b[1;33m:\u001b[0m\u001b[1;33m\u001b[0m\u001b[1;33m\u001b[0m\u001b[0m\n\u001b[0;32m    668\u001b[0m             \u001b[1;32mtry\u001b[0m\u001b[1;33m:\u001b[0m\u001b[1;33m\u001b[0m\u001b[1;33m\u001b[0m\u001b[0m\n\u001b[1;32m--> 669\u001b[1;33m                 \u001b[1;32mreturn\u001b[0m \u001b[0mself\u001b[0m\u001b[1;33m.\u001b[0m\u001b[0m_sock\u001b[0m\u001b[1;33m.\u001b[0m\u001b[0mrecv_into\u001b[0m\u001b[1;33m(\u001b[0m\u001b[0mb\u001b[0m\u001b[1;33m)\u001b[0m\u001b[1;33m\u001b[0m\u001b[1;33m\u001b[0m\u001b[0m\n\u001b[0m\u001b[0;32m    670\u001b[0m             \u001b[1;32mexcept\u001b[0m \u001b[0mtimeout\u001b[0m\u001b[1;33m:\u001b[0m\u001b[1;33m\u001b[0m\u001b[1;33m\u001b[0m\u001b[0m\n\u001b[0;32m    671\u001b[0m                 \u001b[0mself\u001b[0m\u001b[1;33m.\u001b[0m\u001b[0m_timeout_occurred\u001b[0m \u001b[1;33m=\u001b[0m \u001b[1;32mTrue\u001b[0m\u001b[1;33m\u001b[0m\u001b[1;33m\u001b[0m\u001b[0m\n",
      "\u001b[1;32m~\\anaconda3\\lib\\ssl.py\u001b[0m in \u001b[0;36mrecv_into\u001b[1;34m(self, buffer, nbytes, flags)\u001b[0m\n\u001b[0;32m   1239\u001b[0m                   \u001b[1;34m\"non-zero flags not allowed in calls to recv_into() on %s\"\u001b[0m \u001b[1;33m%\u001b[0m\u001b[1;33m\u001b[0m\u001b[1;33m\u001b[0m\u001b[0m\n\u001b[0;32m   1240\u001b[0m                   self.__class__)\n\u001b[1;32m-> 1241\u001b[1;33m             \u001b[1;32mreturn\u001b[0m \u001b[0mself\u001b[0m\u001b[1;33m.\u001b[0m\u001b[0mread\u001b[0m\u001b[1;33m(\u001b[0m\u001b[0mnbytes\u001b[0m\u001b[1;33m,\u001b[0m \u001b[0mbuffer\u001b[0m\u001b[1;33m)\u001b[0m\u001b[1;33m\u001b[0m\u001b[1;33m\u001b[0m\u001b[0m\n\u001b[0m\u001b[0;32m   1242\u001b[0m         \u001b[1;32melse\u001b[0m\u001b[1;33m:\u001b[0m\u001b[1;33m\u001b[0m\u001b[1;33m\u001b[0m\u001b[0m\n\u001b[0;32m   1243\u001b[0m             \u001b[1;32mreturn\u001b[0m \u001b[0msuper\u001b[0m\u001b[1;33m(\u001b[0m\u001b[1;33m)\u001b[0m\u001b[1;33m.\u001b[0m\u001b[0mrecv_into\u001b[0m\u001b[1;33m(\u001b[0m\u001b[0mbuffer\u001b[0m\u001b[1;33m,\u001b[0m \u001b[0mnbytes\u001b[0m\u001b[1;33m,\u001b[0m \u001b[0mflags\u001b[0m\u001b[1;33m)\u001b[0m\u001b[1;33m\u001b[0m\u001b[1;33m\u001b[0m\u001b[0m\n",
      "\u001b[1;32m~\\anaconda3\\lib\\ssl.py\u001b[0m in \u001b[0;36mread\u001b[1;34m(self, len, buffer)\u001b[0m\n\u001b[0;32m   1097\u001b[0m         \u001b[1;32mtry\u001b[0m\u001b[1;33m:\u001b[0m\u001b[1;33m\u001b[0m\u001b[1;33m\u001b[0m\u001b[0m\n\u001b[0;32m   1098\u001b[0m             \u001b[1;32mif\u001b[0m \u001b[0mbuffer\u001b[0m \u001b[1;32mis\u001b[0m \u001b[1;32mnot\u001b[0m \u001b[1;32mNone\u001b[0m\u001b[1;33m:\u001b[0m\u001b[1;33m\u001b[0m\u001b[1;33m\u001b[0m\u001b[0m\n\u001b[1;32m-> 1099\u001b[1;33m                 \u001b[1;32mreturn\u001b[0m \u001b[0mself\u001b[0m\u001b[1;33m.\u001b[0m\u001b[0m_sslobj\u001b[0m\u001b[1;33m.\u001b[0m\u001b[0mread\u001b[0m\u001b[1;33m(\u001b[0m\u001b[0mlen\u001b[0m\u001b[1;33m,\u001b[0m \u001b[0mbuffer\u001b[0m\u001b[1;33m)\u001b[0m\u001b[1;33m\u001b[0m\u001b[1;33m\u001b[0m\u001b[0m\n\u001b[0m\u001b[0;32m   1100\u001b[0m             \u001b[1;32melse\u001b[0m\u001b[1;33m:\u001b[0m\u001b[1;33m\u001b[0m\u001b[1;33m\u001b[0m\u001b[0m\n\u001b[0;32m   1101\u001b[0m                 \u001b[1;32mreturn\u001b[0m \u001b[0mself\u001b[0m\u001b[1;33m.\u001b[0m\u001b[0m_sslobj\u001b[0m\u001b[1;33m.\u001b[0m\u001b[0mread\u001b[0m\u001b[1;33m(\u001b[0m\u001b[0mlen\u001b[0m\u001b[1;33m)\u001b[0m\u001b[1;33m\u001b[0m\u001b[1;33m\u001b[0m\u001b[0m\n",
      "\u001b[1;31mKeyboardInterrupt\u001b[0m: "
     ]
    }
   ],
   "source": [
    "import time\n",
    "\n",
    "start_time = time.time()\n",
    "index_range = slice(0,2)\n",
    "\n",
    "file_path = './Website_Redirects_230919.csv'\n",
    "df = pd.read_csv(file_path, low_memory=False)\n",
    "\n",
    "if 'Website' not in df.columns:\n",
    "    print(\"The CSV file must have a 'Website' column containing the URLs.\")\n",
    "else:\n",
    "    backup_urls = df['Website'][index_range].tolist() \n",
    "    redirect_urls = df.get('Website Redirect', pd.Series(dtype=str)).tolist()[index_range]\n",
    "    \n",
    "    final_urls = []\n",
    "\n",
    "    # Check if 'Website Redirect' column is already populated (with valid URL)\n",
    "    for i, redirect_url in enumerate(redirect_urls):\n",
    "        current_url, current_data = '', {}\n",
    "        if redirect_url and validators.url(redirect_url):\n",
    "            current_url = redirect_url\n",
    "        elif backup_urls[i] and validators.url(backup_urls[i]):\n",
    "            current_url = backup_urls[i]\n",
    "        else:\n",
    "            # Both the redirect_url and the backup_url are either nonexistent or invalid\n",
    "            continue\n",
    "        \n",
    "        # Do scraping here\n",
    "\n",
    "        # minimum layer is JsonLink\n",
    "        current_data = get_meta_tags(current_url)\n",
    "        \n",
    "        # try requests, if don't receive 200 status, use selenium\n",
    "        current_response = requests.get(url)\n",
    "        if current_response.status_code//100 == 2:\n",
    "            #BeautifulSoup scraping\n",
    "            bs4_scrape(current_response.text)\n",
    "        else:\n",
    "            selenium_scrape(url)\n",
    "                \n",
    "        \n",
    "    # Run the asynchronous function using asyncio.run()\n",
    "    loop = asyncio.get_event_loop()\n",
    "    final_urls = loop.run_until_complete(process_urls(valid_urls))\n",
    "\n",
    "    # Update 'Website Redirect' column in the CSV file with final URLs\n",
    "    update_redirect_urls(file_path, valid_urls, final_urls)\n",
    "\n",
    "    print(f\"'Website Redirect' column updated in {time.time()-start_time} seconds.\")"
   ]
  },
  {
   "cell_type": "markdown",
   "id": "6aee85f5",
   "metadata": {},
   "source": [
    "Title:  Home - Sunstone Partners \n",
    "Description:  A partner for growth LEARN MORE Who We Are We are a leading growth oriented private equity firm that makes majority and minority investments in technology-enabled services and software businesses. We seek to partner with exceptional entrepreneurs, often as their first institutional capital partner, to help accelerate organic growth and fund acquisitions. We have over […] \n",
    "Domain:  sunstonepartners.com \\\n",
    "\n",
    "Title:  Applied Learning creates powerful learning experiences to help you drive business performance. \n",
    "Description:  Applied Learning enables authentic employee engagement and better strategy execution. Our approach produces fresh solutions tailored to each client’s goals. \n",
    "Domain:  www.appliedlearning.com \\\n",
    "\n",
    "Title:  FSBO Real Estate Listings: Buy or Sell a House | ForSaleByOwner \n",
    "Description:  Browse exclusive homes for sale by owner or sell your home FSBO.  ForSaleByOwner.com helps you sell your home fast and save money. See why so many are selling FSBO! \n",
    "Domain:  www.forsalebyowner.com \\\n",
    "\n",
    "Title:  Not found. \n",
    "Description:  \n",
    "                    Whatever you were looking for doesn't currently exist at this address. Unless you were looking for this error page, in which case: Congrats! You totally found it.                 \n",
    "Domain:  comsatmedia-en.tumblr.com \\\n",
    "\n",
    "Title:  Kdan Mobile | The Best Creative & Productivity Apps & Services \n",
    "Description:  Kdan Mobile provides mobile solutions including e-signature services, document and content creation apps that empower your creativity and productivity. \n",
    "Domain:  www.kdanmobile.com \\\n",
    "Title:  Buy Chlorella Online | Sun Chlorella USA \n",
    "Description:  Sun Chlorella provides the most digestible chlorella in the world using our proprietary process. Shop for & buy chlorella online in a variety of forms today! \n",
    "Domain:  www.sunchlorellausa.com \\\n",
    "\n",
    "Title:  Papé Material Handling | Hyster & Yale Dealer \n",
    "Description:  Papé Material Handling offers superior products and customer service at every one of our locations throughout the West.  \n",
    "Domain:  www.papemh.com \\\n",
    "\n",
    "Title:  Wacker Brewing Company, brewed in Lancaster PA | \n",
    "Description:   \n",
    "Domain:  wackerbrewing.com \\\n",
    "\n",
    "Title:  Local SEO Web Design Company Denver | 21stsoft.com \n",
    "Description:  21st maximizes your online presence with local SEO marketing. Founded in Denver, Colorado 1993 with an A+ BBB rating we elevate sales and lead generation. \n",
    "Domain:  21stsoft.com \\\n",
    "\n",
    "Title:  Orthodontic & Dental Marketing - Marketing by SOS \n",
    "Description:  Orthodontic & Pediatric Dental marketing: referrals, branding, websites, social media, tshirts & more! In a nutshell: we make great practices even better. \n",
    "Domain:  marketingbysos.com \\\n",
    "\n",
    "Title:  WITTMANN Group – US | WITTMANN Group \n",
    "Description:  Follow Us \n",
    "Domain:  www.wittmann-group.com \\\n",
    "\n",
    "Title:  Xela Pack | Environmentally Conscious Sample Packaging \n",
    "Description:  Xela Pack Inc. specializes in producing environmentally conscious sample and trial packaging. Our main goal is to provide product companies with an attractive, affordable and functional sample package while paying utmost respect to the earth. \n",
    "Domain:  www.xelapack.com \\\n",
    "\n",
    "Title:  Home - EPIC iO \n",
    "Description:  Unlock AIoT & wireless connectivity with EPIC iO and generate predictions to inform action, saving time & money! Discover the possibilities now. \n",
    "Domain:  epicio.com \\\n",
    "\n",
    "Title:  Buy Organic Chia Seeds, Products & More | Mamma Chia Online Store \n",
    "Description:  Buy Mamma Chia products online! Shop our online store to find chia seeds, snacks & more! \n",
    "Domain:  mammachia.com \\\n",
    "\n",
    "Title:  Fabricant de camions blindés Amérique du Nord – Cambli \n",
    "Description:  Canada, États-Unis, Europe. Groupe Cambli est le plus important concepteur et fabricant de camions blindés en Amérique du Nord. \n",
    "Domain:  cambli.com \\\n",
    "\n",
    "Title:  River Run | Milwaukee IT Firm & Managed IT Service Provider \n",
    "Description:  River Run is a full-service IT firm in the Greater Milwaukee Area. We partner with small to medium sized businesses on a full-suite of managed network services and IT support. \n",
    "Domain:  www.river-run.com \\\n",
    "\n",
    "Title:  Workspace Optimization | Desk Booking | ReSoft International LLC \n",
    "Description:  ReSoft International's focus is on employee self-service workplace management technology. We add highly scalable meeting room, team space and flexible workplace signage/management to your existing email technology investment. \n",
    "Domain:  www.re-soft.com \\\n",
    "\n",
    "Title:  {{title}} \n",
    "Description:  {{description}} \n",
    "Domain:  www.pavestone.com \\"
   ]
  },
  {
   "cell_type": "code",
   "execution_count": 17,
   "id": "0edaee19",
   "metadata": {},
   "outputs": [
    {
     "data": {
      "text/plain": [
       "['Accelerate your business and unlock new potential with the dental payments platform that connects your data, workflows, teams, and patients like never before.',\n",
       " 'Say goodbye to complexity. We address the full lifecycle of dental payments. From verifying eligibility to filing accurate claims and beyond, our powerful platform, intelligent data, and massive network ensure payers get exactly what they need so dentists get exactly what they’ve earned. Quickly, reliably, and easily.']"
      ]
     },
     "execution_count": 17,
     "metadata": {},
     "output_type": "execute_result"
    }
   ],
   "source": [
    "# arr = selenium_page_scrape('https://www.dentalxchange.com/')\n",
    "arr = ['Skip to content', 'Sign up', 'Log in', 'Independent Practices', 'DSOs', 'Partners', 'Payers', 'Marketplace', 'Contact Us', 'Credential Now', 'The dental payments platform where', 'everyone', 'wins.', 'Accelerate your business and unlock new potential with the dental payments platform that connects your data, workflows, teams, and patients like never before.', 'Streamline claims processing', 'Speed up payments', 'Connect where it counts', 'Sign UpContact Sales', 'CREDENTIALING', 'ELIGIBILITY', 'CLAIMS', 'ATTACHMENTS', 'CLAIM STATUS', 'ERAs', 'PAYMENTS', 'BILLING', 'Accelerate', 'Dental', 'Payments', 'Payments the right way.', 'Every step of the way.', 'Say goodbye to complexity. We address the full lifecycle of dental payments. From verifying eligibility to filing accurate claims and beyond, our powerful platform, intelligent data, and massive network ensure payers get exactly what they need so dentists get exactly what they’ve earned. Quickly, reliably, and easily.', 'Get connected. Works for', 'everyone.', '107k+', 'Providers in Network', '178+', 'Partners in Network', '289MM', 'EDI Transaction Annually', '71MM', 'Dental Claims Annually', '30+', 'Years in the Industry', 'Connected to All Payers', 'All things payments. All in one place.', 'PaymentsXChange', 'The fastest, smartest way to', 'manage patient payments.', 'Manage your merchant account and', 'collect payments with ease. From credit', 'card processing to POS and financing', 'options, we’ve got you covered. Ready', 'to go paperless now? Easily connect', 'patients to recurring online payments—', 'and issue e-statements and email', 'receipts with quick clicks.', 'Learn More', 'PaymentsXChange', 'ClaimsXChange', 'NetworkXChange', '99%', 'Clean Claim Rate', 'I Want That', 'Connecting providers, partners, and payers.', \"Here's what our clients are saying.\", '\"Once you get the swing of submitting claims with DentalXChange, it makes your life and work in the office so much better.\"', 'Mary Lawson, Office Manager', 'Bowden & Associates', '\"I have been impressed by their', 'consistent dedication to providing first-rate customer service and technical support, and their on-going commitment to EDI in general. We are happy to work with them and appreciate their efforts, I give them two thumbs up!\"', 'Barbara Castelli, EDI Support', 'Coordinator Denti-Cal (CA Medicaid)', '\"We have been working with EHG for over 6 years now and I am consistently impressed with their Customer, Technical and Vendor support. Our company has a unique structure and EHG has been able to accommodate our needs with excellent results everytime!\"', 'Andy Andersen, IS EDI Specialist', 'American Dental Partners, Inc.', 'Bowden & Associates', 'What you need. When you need it.', 'Providers', 'You’re constantly seeking ways to improve your practice so you can focus on what you do best—dentistry. You need to get paid on time. And you want the payment process to be as smooth, seamless, and simple as possible. That’s where we come in. We help reduce your costs and stress—by streamlining your workflows and eliminating manual processes and paperwork. Submit claims correctly the first time. Know where you stand at any time. And create better experiences across the board for your patients.', 'Tell Me More', 'Channel Partners', 'Payers', 'Trading Partners', 'One powerful platform.', 'Streamline workflows', 'Minimize risk', 'Modernize processes', 'We streamlined the payment process by making the connections that matter between providers, partners, and payers. Within our nationwide network of over 950+ payers, you can submit claims—and collect payments—faster than ever before.', 'Make your product even', 'more powerful.', 'By integrating DentalXChange into your software, you can offer a more comprehensive product and give your users a seamless interface for submitting claims and tracking payments. And with our easy-to-use APIs, you’ve got quick access to trusted data and a vast payments network that can scale—with added value just around the corner.', 'Start streamlining your payment process.', \"Let's Go\", 'Contact Us', '(949) 755-8065', 'Connect With Us:', 'Company', 'About Us', 'Careers', 'Contact Us', 'Partner Opportunities', 'Who We Serve', 'Independent Practices', 'DSOs', 'Channel Partners', 'Payers', 'Trading Partners', 'Products', 'Credentialing for Providers', 'Credentialing for Payers', 'Eligibility', 'Eligibility AI', 'Claims', 'Attachments', 'Attachments for Payers', 'Claim Status', 'ERA', 'Merchant Services', 'Patient Statements', 'APIs', 'Dental Billing Services', 'Resources', 'Client Support', 'Solutions Marketplace', 'Blog', 'Press Releases', 'FAQ', 'Developers', 'API', '© 2024 EDI Health Group, dba DentalXChange. All rights reserved.', 'Privacy Policy', 'User Agreement', 'Compliance', 'Security Paper']\n",
    "def word_count(seg):\n",
    "    count = 0\n",
    "    for i in seg:\n",
    "        if i == ' ':\n",
    "            count += 1\n",
    "    return count+1\n",
    "\n",
    "arr2 = []\n",
    "for i in arr:\n",
    "#     print(i, word_count(i))\n",
    "    if word_count(i) > 10:\n",
    "        arr2 += [i]\n",
    "# arr2 = [i for i in arr if word_count(i) > 5]\n",
    "arr2[:2]"
   ]
  }
 ],
 "metadata": {
  "kernelspec": {
   "display_name": "Python 3",
   "language": "python",
   "name": "python3"
  },
  "language_info": {
   "codemirror_mode": {
    "name": "ipython",
    "version": 3
   },
   "file_extension": ".py",
   "mimetype": "text/x-python",
   "name": "python",
   "nbconvert_exporter": "python",
   "pygments_lexer": "ipython3",
   "version": "3.8.8"
  }
 },
 "nbformat": 4,
 "nbformat_minor": 5
}
