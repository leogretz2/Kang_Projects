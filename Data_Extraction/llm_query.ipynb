{
 "cells": [
  {
   "cell_type": "code",
   "execution_count": 30,
   "metadata": {},
   "outputs": [
    {
     "name": "stdout",
     "output_type": "stream",
     "text": [
      "response 13000000\n"
     ]
    }
   ],
   "source": [
    "import pandas as pd\n",
    "from openai import OpenAI\n",
    "from dotenv import load_dotenv\n",
    "import os\n",
    "\n",
    "load_dotenv()\n",
    "\n",
    "client = OpenAI() # defaults to os.environ.get('OPENAI_API_KEY')\n",
    "\n",
    "# Load the Excel file\n",
    "file_path = './file_folder/Data_Extraction.xlsx'\n",
    "df = pd.read_excel(file_path)\n",
    "\n",
    "# Set up your OpenAI API key\n",
    "# openai.api_key = os.environ.get('OPENAI_API_KEY')\n",
    "\n",
    "def batch_query(notes):\n",
    "    # note = \"$25M\"\n",
    "    note = \"$14-$15m of ebitda\"\n",
    "    note = \"$13mm ARR / FY22E $18mm.  Near 100% logo attrition. Net Revenue Attrition >150%\"\n",
    "    # prompt = f\"Extract the ARR values from the following notes. If a value is not clear, return 'unknown'. Only return the number as a long digit or 'unknown'. Here is the note: {note}\"\n",
    "    prompt =f\"Extract the ARR values from the following notes. If there is a range, take the lower number. Convert the values to long digits. If a value is not clear, return 'unknown'. Only return the number as a long digit or 'unknown'. Here is the note: {note}\\n\"\n",
    "    for idx, note in enumerate(notes):\n",
    "        prompt += f\"Note {idx+1}: {note}\\n\"\n",
    "\n",
    "    messages = [{\"role\":\"system\",\"content\":prompt}]\n",
    "    response = client.chat.completions.create(\n",
    "        model=\"gpt-4o-mini\",\n",
    "        messages=messages\n",
    "    )\n",
    "    # response = openai.Completion.create(\n",
    "    #     engine=\"text-davinci-003\",\n",
    "    #     prompt=prompt,\n",
    "    #     max_tokens=100,\n",
    "    #     temperature=0\n",
    "    # )\n",
    "\n",
    "    print(\"response\", response.choices[0].message.content.strip())\n",
    "    \n",
    "    # responses = response.choices[0].message.strip().split('\\n')\n",
    "    # extracted_values = [res.split(': ')[-1].strip() for res in responses]\n",
    "    \n",
    "    # return extracted_values\n",
    "\n",
    "def process_batch(df, batch_size=5):\n",
    "    values = []\n",
    "    for i in range(0, len(df), batch_size):\n",
    "        batch_notes = df['Revenue Notes'][i:i+batch_size].tolist()\n",
    "        batch_values = batch_query(batch_notes)\n",
    "        values.extend(batch_values)\n",
    "    return values\n",
    "\n",
    "# Apply the batch processing function\n",
    "# df['Revenue Value'] = process_batch(df)\n",
    "\n",
    "# Postprocess to ensure extracted values are either floats or 'unknown'\n",
    "def postprocess_value(value):\n",
    "    try:\n",
    "        return float(value)\n",
    "    except ValueError:\n",
    "        return 'unknown'\n",
    "\n",
    "\n",
    "\n",
    "# df['Revenue Value'] = df['Revenue Value'].apply(postprocess_value)\n",
    "\n",
    "# Save the updated dataframe back to Excel\n",
    "# output_path = '/mnt/data/Updated_Data_Extraction.xlsx'\n",
    "# df.to_excel(output_path, index=False)\n",
    "\n",
    "# Output path for user reference\n",
    "# output_path\n",
    "\n",
    "batch_query(['asdf'])"
   ]
  },
  {
   "cell_type": "code",
   "execution_count": null,
   "metadata": {},
   "outputs": [],
   "source": []
  }
 ],
 "metadata": {
  "kernelspec": {
   "display_name": "Python 3",
   "language": "python",
   "name": "python3"
  },
  "language_info": {
   "codemirror_mode": {
    "name": "ipython",
    "version": 3
   },
   "file_extension": ".py",
   "mimetype": "text/x-python",
   "name": "python",
   "nbconvert_exporter": "python",
   "pygments_lexer": "ipython3",
   "version": "3.12.2"
  }
 },
 "nbformat": 4,
 "nbformat_minor": 2
}
