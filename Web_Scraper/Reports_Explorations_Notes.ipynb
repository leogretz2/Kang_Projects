{
 "cells": [
  {
   "cell_type": "markdown",
   "metadata": {},
   "source": [
    "# Code outputs"
   ]
  },
  {
   "cell_type": "markdown",
   "metadata": {},
   "source": [
    "[{\n",
    "    'first_relevant': ['We are a leading growth oriented private equity firm that makes majority and minority investments in technology-enabled services and software businesses. We seek to partner with exceptional entrepreneurs, often as their first institutional capital partner, to help accelerate organic growth and fund acquisitions. We have over 70 years of collective experience investing and helping technology companies achieve successful outcomes.', 'Sunstone Partners was founded in 2015 and has $1.7 billion of committed capital under its first three funds. We invest in majority and minority transactions. We are entrepreneurs ourselves, so we appreciate and respect the journey of our entrepreneurs and are committed to delivering muscle to their businesses with humility and mutual respect.'], \n",
    "    'two_longest': ['We are a leading growth oriented private equity firm that makes majority and minority investments in technology-enabled services and software businesses. We seek to partner with exceptional entrepreneurs, often as their first institutional capital partner, to help accelerate organic growth and fund acquisitions. We have over 70 years of collective experience investing and helping technology companies achieve successful outcomes.', 'Awarded by Inc. Magazine in October 2020, 2021 and 2022. This determination was made following application from private equity / venture capital firms that have exited U.S.-based, founder-led, private portfolio companies. The submitted application included references from portfolio companies. This award reflects Inc. Magazine’s determination each such year that Sunstone Partners is a founder friendly firm that entrepreneurs can collaborate and trust as they receive the financial support they need to help drive growth. A fee was paid to be considered for the award. The full extent of the range and scope of firms and data included in the evaluation is unknown. To compile the list, Inc. went straight to the source: entrepreneurs who have sold to private equity and venture capital firms. Founders filled out a questionnaire about their experiences partnering with private equity and venture capital firms and shared data on how their portfolio companies have grown during these partnerships'],\n",
    "    'headers': ['A partner \\nfor growth', 'Who We Are', 'What we do', 'About Sunstone Partners', 'contact us']\n",
    "    }] \n",
    "[{\n",
    "    'first_relevant': ['We are a leading growth oriented private equity firm that makes majority and minority investments in technology-enabled services and software businesses. We seek to partner with exceptional entrepreneurs, often as their first institutional capital partner, to help accelerate organic growth and fund acquisitions. We have over 70 years of collective experience investing and helping technology companies achieve successful outcomes.', 'Sunstone Partners was founded in 2015 and has $1.7 billion of committed capital under its first three funds. We invest in majority and minority transactions. We are entrepreneurs ourselves, so we appreciate and respect the journey of our entrepreneurs and are committed to delivering muscle to their businesses with humility and mutual respect.'], \n",
    "    'two_longest': ['We are a leading growth oriented private equity firm that makes majority and minority investments in technology-enabled services and software businesses. We seek to partner with exceptional entrepreneurs, often as their first institutional capital partner, to help accelerate organic growth and fund acquisitions. We have over 70 years of collective experience investing and helping technology companies achieve successful outcomes.', '*Inc. Founder Friendly Investors (2020, 2021 and 2022) – Awarded by Inc. Magazine in October 2020, 2021 and 2022. This determination was made following application from private equity / venture capital firms that have exited U.S.-based, founder-led, private portfolio companies. The submitted application included references from portfolio companies. This award reflects Inc. Magazine’s determination each such year that Sunstone Partners is a founder friendly firm that entrepreneurs can collaborate and trust as they receive the financial support they need to help drive growth. A fee was paid to be considered for the award. The full extent of the range and scope of firms and data included in the evaluation is unknown. To compile the list, Inc. went straight to the source: entrepreneurs who have sold to private equity and venture capital firms. Founders filled out a questionnaire about their experiences partnering with private equity and venture capital firms and shared data on how their portfolio companies have grown during these partnerships'], \n",
    "    'headers': ['A PARTNER FOR GROWTH', 'WHO WE ARE', 'WHAT WE DO']\n",
    "    }]"
   ]
  },
  {
   "cell_type": "markdown",
   "metadata": {},
   "source": [
    "# Mistral"
   ]
  },
  {
   "cell_type": "markdown",
   "metadata": {},
   "source": [
    "```\n",
    "messages=[\n",
    "        {\"role\": \"system\", \"content\": \"As a master company assessment officer with 3000 years of experience, you have a task. Given the text from the HTML for the home page and the overview of the first product page for this company's website, you have been instructed by the Prime Chancellor to tell me about the company and what your advice on investing in it would be. For example, information like the types of products that it sells and the sector that it is in\"},\n",
    "        {\"role\": \"user\", \"content\": \"['Accelerate your business and unlock new potential with the dental payments platform that connects your data, workflows, teams, and patients like never before.','Say goodbye to complexity. We address the full lifecycle of dental payments. From verifying eligibility to filing accurate claims and beyond, our powerful platform, intelligent data, and massive network ensure payers get exactly what they need so dentists get exactly what they’ve earned. Quickly, reliably, and easily.'],'two_longest': ['By integrating DentalXChange into your software, you can offer a more comprehensive product and give your users a seamless interface for submitting claims and tracking payments. And with our easy-to-use APIs, you’ve got quick access to trusted data and a vast payments network that can scale—with added value just around the corner.','You’re constantly seeking ways to improve your practice so you can focus on what you do best—dentistry. You need to get paid on time. And you want the payment process to be as smooth, seamless, and simple as possible. That’s where we come in. We help reduce your costs and stress—by streamlining your workflows and eliminating manual processes and paperwork. Submit claims correctly the first time. Know where you stand at any time. And create better experiences across the board for your patients.'\"},\n",
    "        {'role': 'assistant', 'content': \"Based on the information provided, it appears that this company offers a dental payments platform that connects data, workflows, teams, and patients. It addresses the full lifecycle of dental payments and ensures that payers and dentists receive exactly what they need in terms of accurate claims filing and timely payments. The company also provides easy-to-use APIs for integrating its platform into other software, as well as a vast payments network that can scale to accommodate future growth.\\nIn terms of advice on investing in this company, it seems like a promising option for anyone looking to improve their dental practice's payment process and streamline workflows. The platform appears to be comprehensive and user-friendly, which could make it an attractive choice for dentists and other healthcare providers who are seeking a more efficient way to manage payments. Additionally, the company's focus on reducing costs and stress for its customers could be appealing to investors looking for sustainable growth opportunities in the healthcare sector.\\nOverall, while more information would be needed to fully evaluate this company's potential as an investment opportunity, these initial impressions suggest that it could be worth considering for those seeking a solution to complex dental payments challenges.\"}\n",
    "    ]\n",
    "```\n",
    "#### Alternative answers (need to programmatically sort through these):\n",
    "```\n",
    "{'role': 'assistant', 'content': 'DentalXChange is a dental payments platform that connects data, workflows, teams, and patients like never before. It addresses the full lifecycle of dental payments from verifying eligibility to filing accurate claims and beyond. The platform’s powerful tools, intelligent data, and massive network ensure payers get exactly what they need so dentists get exactly what they’ve earned. Quickly, reliably, and easily. By integrating DentalXChange into your software, you can offer a more comprehensive product and give your users a seamless interface for submitting claims and tracking payments. The easy-to-use APIs provide quick access to trusted data and a vast payments network that can scale with added value just around the corner. The platform helps reduce costs and stress by streamlining workflows and eliminating manual processes and paperwork, enabling dentists to focus on what they do best—dentistry.'}\n",
    "chUNK: ('choices', [Choice(finish_reason='stop', index=0, message=ChatCompletionMessage(content='The company offers a dental payments platform that connects data, workflows, teams, and patients. It addresses the full lifecycle of dental payments from verifying eligibility to filing accurate claims and beyond. The platform, intelligent data, and massive network ensure payers get exactly what they need so dentists get exactly what they’ve earned. The company offers a seamless interface for submitting claims and tracking payments through its easy-to-use APIs.\\nMy advice on investing in this company would be to research the dental industry and identify any gaps or pain points that their platform could address. Additionally, it may be beneficial to look into the competition and determine how this company stands out in terms of features, pricing, and customer service. Finally, investors should consider the growth potential of the company and its ability to scale as the demand for dental services continues to grow.', role='assistant', function_call=None, tool_calls=None))]) <class 'tuple'>\n",
    "{'role': 'assistant', 'content': 'The company offers a dental payments platform that connects data, workflows, teams, and patients. It addresses the full lifecycle of dental payments from verifying eligibility to filing accurate claims and beyond. The platform, intelligent data, and massive network ensure payers get exactly what they need so dentists get exactly what they’ve earned. The company offers a seamless interface for submitting claims and tracking payments through its easy-to-use APIs.\\nMy advice on investing in this company would be to research the dental industry and identify any gaps or pain points that their platform could address. Additionally, it may be beneficial to look into the competition and determine how this company stands out in terms of features, pricing, and customer service. Finally, investors should consider the growth potential of the company and its ability to scale as the demand for dental services continues to grow.'}"
   ]
  },
  {
   "cell_type": "markdown",
   "metadata": {},
   "source": [
    "# GPT"
   ]
  },
  {
   "cell_type": "markdown",
   "metadata": {},
   "source": [
    "#### Prompt:\n",
    "As a master company assessment officer with 3000 years of experience, I have a task for you. Given the headers, home page and meta tags of a website, can you please tell me about the company and what your advice on investing in it would be? For example, information like the types of products that it sells and the sector that it is in: [TEXT FROM HOME, FIRST PRODUCT PAGE]\n",
    "\n",
    "#### Response:\n",
    "Based on the provided text from the homepage and the first product page of the company's website, the company in question appears to be DentalXChange. DentalXChange operates as a dental payments platform that offers a comprehensive suite of services designed to streamline the payment and claims processing workflow for dental practices. Here's a summary of the company and its offerings:\n",
    "\n",
    "Company Overview:\n",
    "Sector: HealthTech / FinTech, specifically within the dental industry.\n",
    "Services: DentalXChange provides a range of services aimed at simplifying and accelerating various administrative and financial processes for dental practices. These services include eligibility verification, claims submission and status tracking, electronic remittance advice (ERA), merchant services for patient payments, and dental billing services.\n",
    "Key Offerings:\n",
    "Credentialing: Helps dental practices with the credentialing process, making it faster and more efficient.\n",
    "Eligibility and Claims Processing: Utilizes AI technology to streamline eligibility verification and claims processing, reducing manual effort and improving accuracy.\n",
    "\n",
    "**Report:**\n",
    "Gets overwhelmed with the increase in input. Probably just home page suffices."
   ]
  },
  {
   "cell_type": "markdown",
   "metadata": {},
   "source": [
    "#### Prompt:\n",
    "As a master company assessment officer with 3000 years of experience, I have a task for you. Given the text from the HTML for the home page and the overview of the first product page for this company's website, can you please tell me about the company and what your advice on investing in it would be? For example, information like the types of products that it sells and the sector that it is in: [HOME PAGE TEXT]\n",
    "#### Response:\n",
    "Based on the provided text, the company in question is DentalXChange, a dental payments platform designed to facilitate various aspects of financial transactions within the dental industry. Here are the key insights about the company and its offerings, followed by investment advice:\n",
    "\n",
    "Company Overview:\n",
    "Sector: Healthcare, specifically the dental industry.\n",
    "\n",
    "Products and Services:\n",
    "\n",
    "Credentialing Services: Streamlines the process for dental practices and providers to verify qualifications and affiliations.\n",
    "Eligibility and Benefits Verification: Uses AI to help practices quickly verify patient eligibility for dental insurance benefits.\n",
    "Claims Processing: Offers a platform (ClaimsXChange) for submitting dental insurance claims, including attachments, and tracking claim status efficiently.\n",
    "Electronic Remittance Advice (ERA): Facilitates the electronic receipt and processing of payment explanations from payers.\n",
    "Merchant Services: Provides solutions for managing patient payments, including credit card processing and setting up merchant accounts.\n",
    "Patient Statements: Enables practices to generate and send billing statements to patients electronically.\n",
    "API Integration: Offers APIs for integrating DentalXChange services into existing practice management software, enhancing functionality.\n",
    "Network and Impact:\n",
    "\n",
    "Over 107,000 providers in the network.\n",
    "178+ partners and 700+ payers connected.\n",
    "Handles 289 million EDI transactions and 71 million dental claims annually.\n",
    "Boasts over 30 years of industry experience.\n",
    "Value Proposition:\n",
    "\n",
    "Simplifies and accelerates the dental payments process for providers, payers, and partners.\n",
    "Reduces administrative complexities, ensuring clean claims and faster payments.\n",
    "Offers a comprehensive platform that connects various stakeholders in the dental industry, enhancing efficiency and compliance.\n",
    "Investment Advice:\n",
    "Strengths:\n",
    "\n",
    "Strong network and high volume of transactions indicate a robust and scalable platform.\n",
    "Comprehensive service offerings address multiple pain points in dental payments and claims processing.\n",
    "Longevity in the industry suggests reliability and a good understanding of market needs.\n",
    "Considerations:\n",
    "\n",
    "The healthcare and dental sectors are highly regulated, which can impact the scalability of such services across different regions.\n",
    "The dependency on insurance and healthcare policies means that any significant changes in these areas could impact the company's operations.\n",
    "Advice:\n",
    "Investing in DentalXChange could be promising, particularly for investors interested in healthcare technology and financial services within the dental sector. The company's established presence, extensive network, and comprehensive service offerings present a strong value proposition. However, potential investors should consider the regulatory environment and market dynamics of the healthcare sector, which can influence growth and scalability. It may also be beneficial to assess the company's technological advancements, customer satisfaction, and financial health for a more informed decision."
   ]
  },
  {
   "cell_type": "markdown",
   "metadata": {},
   "source": [
    "#### Prompt:\n",
    "As a master company assessment officer with 3000 years of experience, I have a task for you. Given metadata for the website, the headers and links of the nav, the text from the HTML for the home page and the overviews of the home page and first product page for this company's website, can you please tell me about the company and what your advice on investing in it would be? For example, information like the types of products that it sells and the sector that it is in:\n",
    "\n",
    "{'title': 'The dental payments platform where everyone wins | DentalXChange',\n",
    " 'description': 'Accelerate your business, unlock new potential with the dental payments platform that streamlines the payment process by connect providers, partners, and payers.',\n",
    " 'domain': 'www.dentalxchange.com'},\n",
    "\n",
    "[[[[['Independent Practices-> https://www.dentalxchange.com/solutions/for-providers'],\n",
    "       [['Credentialing-> https://www.dentalxchange.com/product/credentialconnect'],\n",
    "        ['Eligibility-> https://www.dentalxchange.com/product/eligibilityconnect'],\n",
    "        ['Eligibility AI-> https://www.dentalxchange.com/product/eligibility-ai'],\n",
    "        ['Claims-> https://www.dentalxchange.com/product/claimconnect'],\n",
    "        ['Attachments-> https://www.dentalxchange.com/product/attachmentconnect'],\n",
    "        ['Claim Status-> https://www.dentalxchange.com/product/statusconnect'],\n",
    "        ['ERA-> https://www.dentalxchange.com/product/eraconnect'],\n",
    "        ['Merchant Services-> https://www.dentalxchange.com/product/payconnect'],\n",
    "        ['Patient Statements-> https://www.dentalxchange.com/product/billconnect'],\n",
    "        ['Dental Billing Services-> https://www.dentalxchange.com/product/dental-billing-services']]]]],\n",
    "    [[[['DSOs-> https://www.dentalxchange.com/solutions/dsos'],\n",
    "       [['Credentialing-> https://www.dentalxchange.com/product/credentialconnect'],\n",
    "        ['Eligibility-> https://www.dentalxchange.com/product/eligibilityconnect'],\n",
    "        ['Eligibility AI-> https://www.dentalxchange.com/product/eligibility-ai'],\n",
    "        ['Claims-> https://www.dentalxchange.com/product/claimconnect'],\n",
    "        ['Attachments-> https://www.dentalxchange.com/product/attachmentconnect'],\n",
    "        ['Claim Status-> https://www.dentalxchange.com/product/statusconnect'],\n",
    "        ['ERA-> https://www.dentalxchange.com/product/eraconnect'],\n",
    "        ['Merchant Services-> https://www.dentalxchange.com/product/payconnect'],\n",
    "        ['Patient Statements-> https://www.dentalxchange.com/product/billconnect'],\n",
    "        ['APIs-> https://www.dentalxchange.com/product/xconnect-api'],\n",
    "        ['Dental Billing Services-> https://www.dentalxchange.com/product/dental-billing-services']]]]],\n",
    "    [[[['Practice Management Software Partners-> https://www.dentalxchange.com/solutions/for-channel-partners'],\n",
    "       ['Trading Partners-> https://www.dentalxchange.com/solutions/for-trading-partners'],\n",
    "       ['Marketplace Partners-> https://www.dentalxchange.com/resources/solutions-marketplace/vendor-partners']]]],\n",
    "    [[[['Payers-> https://www.dentalxchange.com/solutions/for-payers'],\n",
    "       [['Credentialing-> https://www.dentalxchange.com/product/credentialconnect'],\n",
    "        ['Attachments-> https://www.dentalxchange.com/product/attachmentconnect']]]]],\n",
    "    ['Marketplace-> https://www.dentalxchange.com/resources/solutions-marketplace/vendor-partners'],\n",
    "    ['Sign up-> https://register.dentalxchange.com/reg/step/LoginInfoPage?1'],\n",
    "    ['Log in-> https://register.dentalxchange.com/reg/login?0'],\n",
    "    ['Contact Us-> https://www.dentalxchange.com/contact-us',\n",
    "     'Credential Now-> https://www.dentalxchange.com/product/lp/credentialing-for-providers']]\n",
    "\n",
    "{'first_relevant': ['Accelerate your business and unlock new potential with the dental payments platform that connects your data, workflows, teams, and patients like never before.',\n",
    "  'Say goodbye to complexity. We address the full lifecycle of dental payments. From verifying eligibility to filing accurate claims and beyond, our powerful platform, intelligent data, and massive network ensure payers get exactly what they need so dentists get exactly what they’ve earned. Quickly, reliably, and easily.'],\n",
    " 'two_longest': ['By integrating DentalXChange into your software, you can offer a more comprehensive product and give your users a seamless interface for submitting claims and tracking payments. And with our easy-to-use APIs, you’ve got quick access to trusted data and a vast payments network that can scale—with added value just around the corner.',\n",
    "  'You’re constantly seeking ways to improve your practice so you can focus on what you do best—dentistry. You need to get paid on time. And you want the payment process to be as smooth, seamless, and simple as possible. That’s where we come in. We help reduce your costs and stress—by streamlining your workflows and eliminating manual processes and paperwork. Submit claims correctly the first time. Know where you stand at any time. And create better experiences across the board for your patients.'],\n",
    " 'headers': ['The dental payments platform where',\n",
    "  'everyone',\n",
    "  'wins.',\n",
    "  '99%',\n",
    "  'more powerful.',\n",
    "  'Get connected. Works for',\n",
    "  'everyone.',\n",
    "  'All things payments. All in one place.',\n",
    "  'Connecting providers, partners, and payers.',\n",
    "  \"Here's what our clients are saying.\",\n",
    "  'What you need. When you need it.',\n",
    "  'Make your product even']}\n",
    "\n",
    "#### Response:\n",
    "Based on the provided metadata, DentalXChange appears to be a company operating in the dental sector, specifically focusing on facilitating dental payments. Their platform is designed to streamline the payment process by connecting dental providers, partners, and payers (such as insurance companies). This suggests that DentalXChange operates at the intersection of healthcare and fintech, providing solutions that aim to simplify and accelerate business operations for dental practices.\n",
    "\n",
    "The company offers a range of products and services aimed at various stakeholders in the dental industry, including:\n",
    "\n",
    "Independent Practices: Solutions for dental practices to manage credentialing, eligibility checks (including an AI-powered option), claims processing, attachment handling, claim status updates, electronic remittance advice (ERA), merchant services, patient statements, and dental billing services.\n",
    "\n",
    "Dental Service Organizations (DSOs): Similar offerings as for independent practices, with additional API services to integrate DentalXChange's capabilities into other systems.\n",
    "\n",
    "Practice Management Software Partners: Collaborations with software providers to integrate DentalXChange's services into practice management systems.\n",
    "\n",
    "Payers: Services tailored for insurance companies and other payers, focusing on credentialing and attachments.\n",
    "\n",
    "Marketplace Partners: A platform for vendor partners, potentially offering complementary products and services.\n",
    "\n",
    "The homepage and product overview emphasize the platform's ability to connect various aspects of the dental payment lifecycle, from eligibility verification to claim filing and beyond, aiming to make these processes more efficient, reliable, and user-friendly. The emphasis is on reducing complexity, streamlining workflows, and eliminating manual processes and paperwork, which can lead to cost reductions and better experiences for both dental practices and their patients.\n",
    "\n",
    "Investment Advice\n",
    "When considering an investment in DentalXChange, there are several factors to consider:\n",
    "\n",
    "Market Niche: DentalXChange occupies a specific niche at the intersection of healthcare (dental services) and financial technology, which could offer a unique value proposition if their solutions effectively address the pain points of their target market.\n",
    "\n",
    "Competitive Landscape: Understanding the competitive landscape is crucial. It would be important to assess how DentalXChange's offerings compare to those of competitors in terms of features, pricing, user experience, and market share.\n",
    "\n",
    "Growth Potential: The potential for growth in the dental payments market should be evaluated, including factors such as the increasing adoption of digital payment solutions in healthcare, regulatory changes, and the overall growth of the dental services industry.\n",
    "\n",
    "Customer Feedback: The provided metadata mentions client testimonials. Real-world feedback from users about the effectiveness, reliability, and customer support of DentalXChange's platform would be valuable in assessing its market reputation.\n",
    "\n",
    "Innovation and Adaptability: The mention of AI in eligibility checks suggests DentalXChange is investing in technology to enhance its services. A company's commitment to innovation and its ability to adapt to industry changes are important indicators of its long-term viability.\n",
    "\n",
    "Financial Health: While not provided in the metadata, understanding DentalXChange's financial performance, including revenue growth, profitability, and cash flow, is essential for any investment decision.\n",
    "\n",
    "Considering these factors, if DentalXChange demonstrates strong market positioning, a clear value proposition, positive customer feedback, and solid financial health, it could represent a promising investment opportunity in the growing intersection of healthcare and fintech. However, thorough due diligence, including a deeper examination of the company's financials, competitive positioning, and market trends, would be necessary to make an informed investment decision.\n"
   ]
  },
  {
   "cell_type": "markdown",
   "metadata": {},
   "source": [
    "### Thoughts\n",
    "GPT gets overwhelmed with too much information (i.e. home page and first product page text). Maybe just home page text, but ask Michael for thoughts.\n",
    "\n",
    "Need to get Mistral working for this, or just include home page text in output dict."
   ]
  },
  {
   "cell_type": "markdown",
   "metadata": {},
   "source": [
    "### Mistral Results\n",
    "\n",
    "#### System prompt\n",
    "\n",
    "As a master company assessment officer with 3000 years of experience, you have a task. Given an object with a data structure representing the navigation tree of a website and a handful of textual data like first relevant chunks of text and header values for the home page and first product page in the navigation tree, you have been instructed by the Prime Chancellor to tell me about the company and what your advice on investing in it would be. For example, information like the types of products that it sells and the sector that it is in.\n",
    "\n",
    "#### First Three outputs\n",
    "\n",
    "{'role': 'assistant', 'content': \"As a master company assessment officer with 3000 years of experience, I would advise investors that Applied Learning is a reputable and experienced organization in addressing key business challenges. Their authentic employee engagement approach produces fresh solutions tailored to each client's goals and requirements, which are crucial for successful strategy execution. Additionally, their expertise in creating authentic and engaging learning experiences at all levels of an organization will help to instill sound judgment and improve overall performance.\\nApplied Learning has extensive experience in leadership development and operational excellence, which are essential components of a successful business. Their approach is people-centered, with a focus on aligning leadership teams and equipping employees to address the social side of strategy across the organization. Furthermore, their custom solutions and proven business acumen frameworks offer clients a range of options that can be tailored to meet their specific needs.\\nOverall, I would recommend investing in Applied Learning due to their expertise, experience, and focus on delivering authentic employee engagement and operational excellence.\"}\n",
    "\n",
    "{'role': 'assistant', 'content': \"Based on the information provided, it appears that Applied Learning is a company that provides training and development services focused on addressing key business challenges. The company has expertise in authentic employee engagement and helping organizations develop custom solutions to address their specific needs.\\n\\nIn terms of investing in this company, it would be important to consider its track record and reputation in the industry, as well as its ability to deliver results for its clients. Additionally, it may be useful to research the market demand for Applied Learning's services and assess any potential growth opportunities for the company.\\n\\nOverall, based on the information provided, Applied Learning appears to be a reputable and experienced company with a focus on authentic employee engagement and helping organizations achieve their goals. It would be worth considering as an investment opportunity if you are interested in this area of business.\"}\n",
    "\n",
    "{'role': 'assistant', 'content': \"As a master company assessment officer with 3000 years of experience, I can advise you that the company appears to be in the business of providing authentic employee engagement solutions for companies looking to address various challenges and opportunities. Based on the provided information, it seems that the company has expertise in strategy execution, leadership development, business acumen, culture and performance, operational excellence, and authentic employee engagement.\\nThe first relevant chunks of text and header values for the home page and first product page suggest that the company is focused on providing solutions that are tailored to each client's goals and needs. The company also emphasizes the importance of strategy execution and leadership alignment in achieving success.\\nIn terms of investing, it would be important to evaluate the company's track record and reputation within the industry, as well as their ability to deliver results for their clients. Additionally, it may be useful to review the company's financial statements and growth projections to assess their potential for future success.\\nOverall, based on the provided information, the company appears to have a strong focus on authentic employee engagement and providing solutions that are tailored to each client's needs. However, further research and analysis would be necessary to fully evaluate the investment potential of this company.\"}\n",
    "\n",
    "#### Thoughts\n",
    "\n",
    "Took about 15 minutes to produce the first response and then much faster after that, but will just take first. Consider slimming input down and keep full object for record-keeping/manually asking Chat GPT. Could also help if I had faster computer since it's a locally hosted server. Also, responses are always nice - should I make it lean more critically by altering the prompt?"
   ]
  },
  {
   "cell_type": "markdown",
   "metadata": {},
   "source": [
    "### Output in Excel for Applied Learning"
   ]
  },
  {
   "cell_type": "code",
   "execution_count": 3,
   "metadata": {},
   "outputs": [
    {
     "data": {
      "text/plain": [
       "{'nav': [[[[('Your Challenges',\n",
       "      'https://www.appliedlearning.com/your-challenges/'),\n",
       "     [[('Overview', 'https://www.appliedlearning.com/your-challenges/')],\n",
       "      [('Strategy Execution',\n",
       "        'https://www.appliedlearning.com/your-challenges/strategy-execution/'),\n",
       "       [[('Overview',\n",
       "          'https://www.appliedlearning.com/your-challenges/strategy-execution/')],\n",
       "        [('Achieve Strategy Alignment Within Executive Teams',\n",
       "          'https://www.appliedlearning.com/your-challenges/strategy-execution/achieve-strategy-alignment-within-executive-teams/')],\n",
       "        [('Equip Managers to Turn Strategy into Action',\n",
       "          'https://www.appliedlearning.com/your-challenges/strategy-execution/equip-managers-to-turn-strategy-into-action/')],\n",
       "        [('Gain Buy-in and Emotional Connection By Employees',\n",
       "          'https://www.appliedlearning.com/your-challenges/strategy-execution/gain-buy-in-and-emotional-connection-by-employees/')],\n",
       "        [('Implement Strategy by Changing Key Processes',\n",
       "          'https://www.appliedlearning.com/your-challenges/strategy-execution/implement-strategy-by-changing-key-processes/')]]],\n",
       "      [('Leadership Development',\n",
       "        'https://www.appliedlearning.com/your-challenges/leadership-development/')],\n",
       "      [('Business Acumen',\n",
       "        'https://www.appliedlearning.com/your-challenges/business-acumen/')],\n",
       "      [('Culture & Performance',\n",
       "        'https://www.appliedlearning.com/your-challenges/high-performance-culture/')],\n",
       "      [('Operational Excellence',\n",
       "        'https://www.appliedlearning.com/your-challenges/operational-excellence/')]]],\n",
       "    [('Our Approach',\n",
       "      'https://www.appliedlearning.com/authentic-employee-engagement/'),\n",
       "     [[('Overview',\n",
       "        'https://www.appliedlearning.com/authentic-employee-engagement/')],\n",
       "      [('Knowledge Maps',\n",
       "        'https://www.appliedlearning.com/authentic-employee-engagement/knowledge-maps/')],\n",
       "      [('Visual Narratives',\n",
       "        'https://www.appliedlearning.com/authentic-employee-engagement/visual-narratives/')],\n",
       "      [('Spark! Discussion Starters',\n",
       "        'https://www.appliedlearning.com/authentic-employee-engagement/discussion-starters/')],\n",
       "      [('Now I See Workshops',\n",
       "        'https://www.appliedlearning.com/authentic-employee-engagement/now-i-see-workshops/')],\n",
       "      [('eLearning',\n",
       "        'https://www.appliedlearning.com/authentic-employee-engagement/elearning/')]]],\n",
       "    [('Clients', 'https://www.appliedlearning.com/clients/')],\n",
       "    [('Insights', 'https://www.appliedlearning.com/insights/')],\n",
       "    [('About', 'https://www.appliedlearning.com/about/')],\n",
       "    [('Contact Us', 'https://www.appliedlearning.com/contact/')],\n",
       "    [('', 'https://www.appliedlearning.com/#')]]],\n",
       "  'https://www.appliedlearning.com/your-challenges/'],\n",
       " 'home_page': {'first_relevant': ['Applied Learning has extensive experience addressing key business challenges. Our authentic employee engagement approach produces fresh solutions tailored to each clientâ€™s goals.',\n",
       "   'We believe that strategy execution requires leadership alignment as well as emotional buy-in at the employee level. We help align leadership teams and equip them to address the social side of strategy across your organization.'],\n",
       "  'two_longest': ['We provide expertise in knowing how to create authentic and engaging learning experiences that instill sound judgment at all levels of your organization. You can specify the program details or choose from proven business acumen frameworks that we offer.',\n",
       "   'We partner with you to develop custom solutions that deliver authentic employee engagement. Each expert-designed product described below is an effective stand-alone solution; when integrated together this blended solution will multiply and magnify results.'],\n",
       "  'headers': ['Applied Learning has extensive experience addressing key business challenges. Our authentic employee engagement approach produces fresh solutions tailored to each clientâ€™s goals.',\n",
       "   'Strategy Execution',\n",
       "   'Leadership Development',\n",
       "   'Business Acumen',\n",
       "   'Culture &\\nPerformance',\n",
       "   'Operational Excellence',\n",
       "   'Authentic employee engagement is our people-centered approach to training and communication that integrates the needs of people, the possibilities of learning methodologies, and the business needs of our clients.']},\n",
       " 'first_page': {'first_relevant': ['Applied Learning has extensive experience empowering organizations. Our authentic employee engagement approach will produce fresh solutions tailored to address your challenges and opportunities.',\n",
       "   'We believe that strategy execution requires leadership alignment as well as emotional buy-in at the employee level. We help align leadership teams and equip them to address the social side of strategy across your organization.'],\n",
       "  'two_longest': ['We have supported operational initiatives with hundreds of clients over the last 17 years. We offer expertise in creating tailored, experiential tools and programs that guide employees to personalize and act on operational initiatives.',\n",
       "   'We provide expertise in knowing how to create authentic and engaging learning experiences that instill sound judgment at all levels of your organization. You can specify the program details or choose from proven business acumen frameworks that we offer.'],\n",
       "  'headers': ['Applied Learning has extensive experience empowering organizations. Our authentic employee engagement approach will produce fresh solutions tailored to address your challenges and opportunities.',\n",
       "   'Strategy Execution',\n",
       "   'Leadership Development',\n",
       "   'Business Acumen',\n",
       "   'Culture &\\nPerformance',\n",
       "   'Operational Excellence']}}"
      ]
     },
     "execution_count": 3,
     "metadata": {},
     "output_type": "execute_result"
    }
   ],
   "source": [
    "{'nav': [[[[('Your Challenges', 'https://www.appliedlearning.com/your-challenges/'), [[('Overview', 'https://www.appliedlearning.com/your-challenges/')], [('Strategy Execution', 'https://www.appliedlearning.com/your-challenges/strategy-execution/'), [[('Overview', 'https://www.appliedlearning.com/your-challenges/strategy-execution/')], [('Achieve Strategy Alignment Within Executive Teams', 'https://www.appliedlearning.com/your-challenges/strategy-execution/achieve-strategy-alignment-within-executive-teams/')], [('Equip Managers to Turn Strategy into Action', 'https://www.appliedlearning.com/your-challenges/strategy-execution/equip-managers-to-turn-strategy-into-action/')], [('Gain Buy-in and Emotional Connection By Employees', 'https://www.appliedlearning.com/your-challenges/strategy-execution/gain-buy-in-and-emotional-connection-by-employees/')], [('Implement Strategy by Changing Key Processes', 'https://www.appliedlearning.com/your-challenges/strategy-execution/implement-strategy-by-changing-key-processes/')]]], [('Leadership Development', 'https://www.appliedlearning.com/your-challenges/leadership-development/')], [('Business Acumen', 'https://www.appliedlearning.com/your-challenges/business-acumen/')], [('Culture & Performance', 'https://www.appliedlearning.com/your-challenges/high-performance-culture/')], [('Operational Excellence', 'https://www.appliedlearning.com/your-challenges/operational-excellence/')]]], [('Our Approach', 'https://www.appliedlearning.com/authentic-employee-engagement/'), [[('Overview', 'https://www.appliedlearning.com/authentic-employee-engagement/')], [('Knowledge Maps', 'https://www.appliedlearning.com/authentic-employee-engagement/knowledge-maps/')], [('Visual Narratives', 'https://www.appliedlearning.com/authentic-employee-engagement/visual-narratives/')], [('Spark! Discussion Starters', 'https://www.appliedlearning.com/authentic-employee-engagement/discussion-starters/')], [('Now I See Workshops', 'https://www.appliedlearning.com/authentic-employee-engagement/now-i-see-workshops/')], [('eLearning', 'https://www.appliedlearning.com/authentic-employee-engagement/elearning/')]]], [('Clients', 'https://www.appliedlearning.com/clients/')], [('Insights', 'https://www.appliedlearning.com/insights/')], [('About', 'https://www.appliedlearning.com/about/')], [('Contact Us', 'https://www.appliedlearning.com/contact/')], [('', 'https://www.appliedlearning.com/#')]]], 'https://www.appliedlearning.com/your-challenges/'], 'home_page': {'first_relevant': ['Applied Learning has extensive experience addressing key business challenges. Our authentic employee engagement approach produces fresh solutions tailored to each clientâ€™s goals.', 'We believe that strategy execution requires leadership alignment as well as emotional buy-in at the employee level. We help align leadership teams and equip them to address the social side of strategy across your organization.'], 'two_longest': ['We provide expertise in knowing how to create authentic and engaging learning experiences that instill sound judgment at all levels of your organization. You can specify the program details or choose from proven business acumen frameworks that we offer.', 'We partner with you to develop custom solutions that deliver authentic employee engagement. Each expert-designed product described below is an effective stand-alone solution; when integrated together this blended solution will multiply and magnify results.'], 'headers': ['Applied Learning has extensive experience addressing key business challenges. Our authentic employee engagement approach produces fresh solutions tailored to each clientâ€™s goals.', 'Strategy Execution', 'Leadership Development', 'Business Acumen', 'Culture &\\nPerformance', 'Operational Excellence', 'Authentic employee engagement is our people-centered approach to training and communication that integrates the needs of people, the possibilities of learning methodologies, and the business needs of our clients.']}, 'first_page': {'first_relevant': ['Applied Learning has extensive experience empowering organizations. Our authentic employee engagement approach will produce fresh solutions tailored to address your challenges and opportunities.', 'We believe that strategy execution requires leadership alignment as well as emotional buy-in at the employee level. We help align leadership teams and equip them to address the social side of strategy across your organization.'], 'two_longest': ['We have supported operational initiatives with hundreds of clients over the last 17 years. We offer expertise in creating tailored, experiential tools and programs that guide employees to personalize and act on operational initiatives.', 'We provide expertise in knowing how to create authentic and engaging learning experiences that instill sound judgment at all levels of your organization. You can specify the program details or choose from proven business acumen frameworks that we offer.'], 'headers': ['Applied Learning has extensive experience empowering organizations. Our authentic employee engagement approach will produce fresh solutions tailored to address your challenges and opportunities.', 'Strategy Execution', 'Leadership Development', 'Business Acumen', 'Culture &\\nPerformance', 'Operational Excellence']}}"
   ]
  },
  {
   "cell_type": "markdown",
   "metadata": {},
   "source": [
    "# Notes\n",
    "\n",
    "**ParseHub**\n",
    "- can handle Javascript, AJAX, cookies, sessions and redirects.\\\n",
    "- fails to meet the requirements for:\n",
    "Collecting data from websites that use anti-scraping technologies, such as CAPTCHA-protected websites.\n",
    "Obtaining data at a large scale.\n",
    "Bypassing geographical restrictions on content.\n",
    "- More of a scheduled running of a set scrape of a specific website.\n",
    "\n",
    "**JsonLink**\\\n",
    "(API key: pk_d22cfd76694dc6566ccbf7ed6f50cdc66215091c)\\\n",
    "30 Requests / per minute\\\n",
    "300 Requests / per hour\\\n",
    "30,000 Requests / per month\\\n",
    "\n",
    "*Incorporate rate limiting based on these rates*\n",
    "\n",
    "**Site Metadata API**\\\n",
    "Free plan:\\\n",
    "100 / month + $0.0016 each other\\\n",
    "Rate Limit\t30 requests per second\\\n",
    "\n",
    "**GPT usage** \\\n",
    "Purely token-based, scraping is a tool that GPT uses to help answer questions \\\n",
    "Using the API, price is per 1000 tokens \\\n",
    "Example: Query (100 tokens) and response (900) given by ChatGPT is around 1000 combined tokens. \\\n",
    "GPT4: I(\\\\$0.03), O(\\\\$0.06) => 0.003 + 0.054 => 0.057/url => all URLs = \\\\$14,000 \\\n",
    "GPT4-turbo: I(\\\\$0.01), O(\\\\$0.03)... \\\n",
    "ChatGPT is no additional cost to the subscription though\n",
    "\n",
    "**Ideas** \\\n",
    "Contact Us page \\\n",
    "Testimonials \\\n",
    "Products \\\n",
    "Add types to function defs\n",
    "\n",
    "**Robot Blocking**\n",
    "Might want to avoid staying on the same driver, but that takes much longer. Maybe try waiting. Example at https://www.cessco.ca/ - scraping each page separately with Selenium works, but one after the other gets blocked. \\\n",
    "There are many reasons why websites might block robots:\n",
    "1. Bandwidth/server load\n",
    "2. Security Concerns (sensitive data scraping, vulnerability scanning, DDOS)\n",
    "3. Data scraping - company may use data for $$ so a scraper circumvents a revenue source\n",
    "4. Might violate copyright/terms of service agreements\n",
    "5. Quality of Service - bots screw up metrics that a company might be collecting for user research.\n",
    "6. Content Integrity = unauthorized content duplication. Could affect search engine + perceived value."
   ]
  },
  {
   "cell_type": "markdown",
   "metadata": {},
   "source": [
    "# Explorations"
   ]
  },
  {
   "cell_type": "markdown",
   "metadata": {},
   "source": [
    "#### Input storage for chat functionality"
   ]
  },
  {
   "cell_type": "code",
   "execution_count": 6,
   "metadata": {},
   "outputs": [
    {
     "name": "stdout",
     "output_type": "stream",
     "text": [
      "SSS\n"
     ]
    },
    {
     "data": {
      "text/plain": [
       "[{'content': 'a'}]"
      ]
     },
     "execution_count": 6,
     "metadata": {},
     "output_type": "execute_result"
    }
   ],
   "source": [
    "messagese = []\n",
    "input = input(\"> \")\n",
    "messagese.append({\"content\": input})\n",
    "if input == 'a':\n",
    "    print('SSS')\n",
    "messagese"
   ]
  },
  {
   "cell_type": "markdown",
   "metadata": {},
   "source": [
    "#### Text selection from page\n",
    "\n",
    "Two longest pieces of text, or highest percentage length or something else?"
   ]
  },
  {
   "cell_type": "code",
   "execution_count": null,
   "metadata": {},
   "outputs": [],
   "source": [
    "from bs4 import BeautifulSoup\n",
    "import requests\n",
    "import urllib.parse\n",
    "import validators\n",
    "\n",
    "\n",
    "texter = requests.get('https://ecmins.com/').text\n",
    "souper = BeautifulSoup(texter,'html.parser')\n",
    "az = souper.find_all('a')\n",
    "hrefs = [x.attrs['href'] for x in az]\n",
    "azs = list(set([i for i in hrefs if validators.url(i)]))\n",
    "\n",
    "# parsed = urllib.parse.urlsplit(address)\n",
    "# print(\"{}?{}\".format(parsed.path.split(\"/\")[-1], parsed.query))\n",
    "urllib.parse.urlsplit(azs[0]).netloc\n",
    "# for a in az:\n",
    "#     print(a.attrs['href'])"
   ]
  },
  {
   "cell_type": "markdown",
   "metadata": {},
   "source": [
    "### Determining Relevance of href"
   ]
  },
  {
   "cell_type": "code",
   "execution_count": null,
   "metadata": {},
   "outputs": [],
   "source": [
    "import urllib.parse as up\n",
    "\n",
    "sp = up.urlsplit('https://ecmins.com/')\n",
    "print(sp.netloc)\n",
    "sp"
   ]
  },
  {
   "cell_type": "markdown",
   "metadata": {},
   "source": [
    "### Compare bs4.nav and selenium nav tags"
   ]
  },
  {
   "cell_type": "code",
   "execution_count": null,
   "metadata": {},
   "outputs": [],
   "source": [
    "import requests\n",
    "from bs4 import BeautifulSoup\n",
    "\n",
    "from selenium import webdriver\n",
    "from selenium.webdriver.common.keys import Keys\n",
    "from selenium.common.exceptions import TimeoutException\n",
    "from selenium.webdriver.common.by import By \n",
    "from selenium.webdriver.support.ui import WebDriverWait\n",
    "from selenium.webdriver.support import expected_conditions as EC\n",
    "\n",
    "from typing import Dict\n",
    "import re\n",
    "import urllib.parse as up\n",
    "\n",
    "url_test = 'https://www.appliedlearning.com'\n",
    "\n",
    "#bs4\n",
    "response = requests.get(url_test)\n",
    "texter = response.text\n",
    "souper = BeautifulSoup(texter, 'html.parser')\n",
    "print('bs4',souper.nav)\n",
    "\n",
    "#selenium\n",
    "driver = webdriver.Chrome()\n",
    "driver.get(url_test)\n",
    "navs = driver.find_elements(\"xpath\",\"//nav\")\n",
    "navs_text = list(filter(None,[re.split(r'[\\n\\t]+',nav.text) for nav in navs if nav]))\n",
    "driver.close()\n",
    "print(navs_text)"
   ]
  },
  {
   "cell_type": "markdown",
   "metadata": {},
   "source": [
    "**Report**: bs4 has .nav off of BeautifulSoup object, but is less reliable than Selenium for finding nav tags. However, manually finding nav tags with bs4 is better."
   ]
  },
  {
   "cell_type": "markdown",
   "metadata": {},
   "source": [
    "### Getting different pages with same driver - Selenium"
   ]
  },
  {
   "cell_type": "code",
   "execution_count": null,
   "metadata": {},
   "outputs": [],
   "source": [
    "driver = webdriver.Chrome()\n",
    "driver.get('https://www.dentalxchange.com/')\n",
    "page_text = driver.find_element(\"xpath\",\"/html/body\").text\n",
    "page_array = re.split(r'[\\n\\t]+',page_text)\n",
    "print(page_array[0])\n",
    "driver.get('https://www.dentalxchange.com/product/credentialconnect-for-providers')\n",
    "page_text = driver.find_element(\"xpath\",\"/html/body\").text\n",
    "page_array = re.split(r'[\\n\\t]+',page_text)\n",
    "print(page_array[0])\n",
    "driver.close()"
   ]
  },
  {
   "cell_type": "markdown",
   "metadata": {},
   "source": [
    "**Report:** driver.get(<DIFFERENT_URL>) works to switch pages."
   ]
  },
  {
   "cell_type": "markdown",
   "metadata": {},
   "source": [
    "####  Determine if url is broken/undefined (i.e. https://www.scorpion.co/javascript:void(0);) but somehow need to differentiate between these and blocked robot pages"
   ]
  },
  {
   "cell_type": "code",
   "execution_count": null,
   "metadata": {},
   "outputs": [],
   "source": [
    "driver = webdriver.Chrome()\n",
    "driver.get('https://www.scorpion.co/javascript:void(0);')\n",
    "ready_state = driver.execute_script('return document.readyState;')\n",
    "driver.close()\n",
    "print(ready_state)"
   ]
  },
  {
   "cell_type": "markdown",
   "metadata": {},
   "source": [
    "### Two longest str in array"
   ]
  },
  {
   "cell_type": "code",
   "execution_count": 1,
   "metadata": {},
   "outputs": [
    {
     "data": {
      "text/plain": [
       "['sadf', 'asdffsdfasdfasdf']"
      ]
     },
     "execution_count": 1,
     "metadata": {},
     "output_type": "execute_result"
    }
   ],
   "source": [
    "a = ['sadf','asdffsdfasdfasdf','vv']\n",
    "sorted(a,key=len)[-2:]"
   ]
  },
  {
   "cell_type": "markdown",
   "metadata": {},
   "source": [
    "### JsonLink Output for first ~10"
   ]
  },
  {
   "cell_type": "markdown",
   "metadata": {},
   "source": [
    "Title:  Home - Sunstone Partners \n",
    "Description:  A partner for growth LEARN MORE Who We Are We are a leading growth oriented private equity firm that makes majority and minority investments in technology-enabled services and software businesses. We seek to partner with exceptional entrepreneurs, often as their first institutional capital partner, to help accelerate organic growth and fund acquisitions. We have over […] \n",
    "Domain:  sunstonepartners.com \\\n",
    "\n",
    "Title:  Applied Learning creates powerful learning experiences to help you drive business performance. \n",
    "Description:  Applied Learning enables authentic employee engagement and better strategy execution. Our approach produces fresh solutions tailored to each client’s goals. \n",
    "Domain:  www.appliedlearning.com \\\n",
    "\n",
    "Title:  FSBO Real Estate Listings: Buy or Sell a House | ForSaleByOwner \n",
    "Description:  Browse exclusive homes for sale by owner or sell your home FSBO.  ForSaleByOwner.com helps you sell your home fast and save money. See why so many are selling FSBO! \n",
    "Domain:  www.forsalebyowner.com \\\n",
    "\n",
    "Title:  Not found. \n",
    "Description:  \n",
    "                    Whatever you were looking for doesn't currently exist at this address. Unless you were looking for this error page, in which case: Congrats! You totally found it.                 \n",
    "Domain:  comsatmedia-en.tumblr.com \\\n",
    "\n",
    "Title:  Kdan Mobile | The Best Creative & Productivity Apps & Services \n",
    "Description:  Kdan Mobile provides mobile solutions including e-signature services, document and content creation apps that empower your creativity and productivity. \n",
    "Domain:  www.kdanmobile.com \\\n",
    "Title:  Buy Chlorella Online | Sun Chlorella USA \n",
    "Description:  Sun Chlorella provides the most digestible chlorella in the world using our proprietary process. Shop for & buy chlorella online in a variety of forms today! \n",
    "Domain:  www.sunchlorellausa.com \\\n",
    "\n",
    "Title:  Papé Material Handling | Hyster & Yale Dealer \n",
    "Description:  Papé Material Handling offers superior products and customer service at every one of our locations throughout the West.  \n",
    "Domain:  www.papemh.com \\\n",
    "\n",
    "Title:  Wacker Brewing Company, brewed in Lancaster PA | \n",
    "Description:   \n",
    "Domain:  wackerbrewing.com \\\n",
    "\n",
    "Title:  Local SEO Web Design Company Denver | 21stsoft.com \n",
    "Description:  21st maximizes your online presence with local SEO marketing. Founded in Denver, Colorado 1993 with an A+ BBB rating we elevate sales and lead generation. \n",
    "Domain:  21stsoft.com \\\n",
    "\n",
    "Title:  Orthodontic & Dental Marketing - Marketing by SOS \n",
    "Description:  Orthodontic & Pediatric Dental marketing: referrals, branding, websites, social media, tshirts & more! In a nutshell: we make great practices even better. \n",
    "Domain:  marketingbysos.com \\\n",
    "\n",
    "Title:  WITTMANN Group – US | WITTMANN Group \n",
    "Description:  Follow Us \n",
    "Domain:  www.wittmann-group.com \\\n",
    "\n",
    "Title:  Xela Pack | Environmentally Conscious Sample Packaging \n",
    "Description:  Xela Pack Inc. specializes in producing environmentally conscious sample and trial packaging. Our main goal is to provide product companies with an attractive, affordable and functional sample package while paying utmost respect to the earth. \n",
    "Domain:  www.xelapack.com \\\n",
    "\n",
    "Title:  Home - EPIC iO \n",
    "Description:  Unlock AIoT & wireless connectivity with EPIC iO and generate predictions to inform action, saving time & money! Discover the possibilities now. \n",
    "Domain:  epicio.com \\\n",
    "\n",
    "Title:  Buy Organic Chia Seeds, Products & More | Mamma Chia Online Store \n",
    "Description:  Buy Mamma Chia products online! Shop our online store to find chia seeds, snacks & more! \n",
    "Domain:  mammachia.com \\\n",
    "\n",
    "Title:  Fabricant de camions blindés Amérique du Nord – Cambli \n",
    "Description:  Canada, États-Unis, Europe. Groupe Cambli est le plus important concepteur et fabricant de camions blindés en Amérique du Nord. \n",
    "Domain:  cambli.com \\\n",
    "\n",
    "Title:  River Run | Milwaukee IT Firm & Managed IT Service Provider \n",
    "Description:  River Run is a full-service IT firm in the Greater Milwaukee Area. We partner with small to medium sized businesses on a full-suite of managed network services and IT support. \n",
    "Domain:  www.river-run.com \\\n",
    "\n",
    "Title:  Workspace Optimization | Desk Booking | ReSoft International LLC \n",
    "Description:  ReSoft International's focus is on employee self-service workplace management technology. We add highly scalable meeting room, team space and flexible workplace signage/management to your existing email technology investment. \n",
    "Domain:  www.re-soft.com \\\n",
    "\n",
    "Title:  {{title}} \n",
    "Description:  {{description}} \n",
    "Domain:  www.pavestone.com \\"
   ]
  }
 ],
 "metadata": {
  "kernelspec": {
   "display_name": "Python 3",
   "language": "python",
   "name": "python3"
  },
  "language_info": {
   "codemirror_mode": {
    "name": "ipython",
    "version": 3
   },
   "file_extension": ".py",
   "mimetype": "text/x-python",
   "name": "python",
   "nbconvert_exporter": "python",
   "pygments_lexer": "ipython3",
   "version": "3.11.0"
  }
 },
 "nbformat": 4,
 "nbformat_minor": 2
}
